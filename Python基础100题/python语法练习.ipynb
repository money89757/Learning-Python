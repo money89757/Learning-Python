{
 "cells": [
  {
   "cell_type": "markdown",
   "metadata": {},
   "source": [
    "# python 语法练习"
   ]
  },
  {
   "cell_type": "markdown",
   "metadata": {},
   "source": [
    "##### 1. 将元组（1，2，3）和集合{4，5，6}合并成一个列表"
   ]
  },
  {
   "cell_type": "code",
   "execution_count": 4,
   "metadata": {},
   "outputs": [
    {
     "name": "stdout",
     "output_type": "stream",
     "text": [
      "[1, 2, 3, 4, 5, 6]\n"
     ]
    }
   ],
   "source": [
    "tup = (1,2,3)\n",
    "se = {4,5,6}\n",
    "list1 = list(tup)+list(se)\n",
    "print(list1)"
   ]
  },
  {
   "cell_type": "markdown",
   "metadata": {},
   "source": [
    "##### 2.在列表[1,2,3,4,5,6] 首尾添加整型元素7和0 "
   ]
  },
  {
   "cell_type": "code",
   "execution_count": 6,
   "metadata": {},
   "outputs": [
    {
     "name": "stdout",
     "output_type": "stream",
     "text": [
      "[7, 1, 2, 3, 4, 5, 6, 0]\n"
     ]
    }
   ],
   "source": [
    "list2 = [1, 2, 3, 4, 5, 6]\n",
    "list2.insert(0,7)\n",
    "list2.append(0)\n",
    "print(list2)"
   ]
  },
  {
   "cell_type": "markdown",
   "metadata": {},
   "source": [
    "##### 3.反转列表[0,1,2,3,4,5,6,7]"
   ]
  },
  {
   "cell_type": "code",
   "execution_count": 8,
   "metadata": {},
   "outputs": [
    {
     "name": "stdout",
     "output_type": "stream",
     "text": [
      "[7, 6, 5, 4, 3, 2, 1, 0]\n"
     ]
    }
   ],
   "source": [
    "list3 = [0, 1, 2, 3, 4, 5, 6, 7]\n",
    "list3.reverse()\n",
    "print(list3)"
   ]
  },
  {
   "cell_type": "markdown",
   "metadata": {},
   "source": [
    "##### 4. 分别统计列表[True, False, 0, 1, 2]中的Ture, False, 0, 1, 2的元素个数，看有什么发现"
   ]
  },
  {
   "cell_type": "code",
   "execution_count": 21,
   "metadata": {},
   "outputs": [
    {
     "name": "stdout",
     "output_type": "stream",
     "text": [
      "2\n",
      "2\n",
      "2\n",
      "2\n",
      "1\n"
     ]
    }
   ],
   "source": [
    "list4 = [True, False, 0, 1, 2]\n",
    " # python中把true 映射为1\n",
    "print(list4.count(True)) \n",
    "# python中把False 映射为0\n",
    "print(list4.count(False))\n",
    "print(list4.count(0))\n",
    "print(list4.count(1))\n",
    "print(list4.count(2))"
   ]
  },
  {
   "cell_type": "markdown",
   "metadata": {},
   "source": [
    "##### 5. 从列表[True, 1, 0 ,'x',None, 'x', False, 2, True]删除元素'x'"
   ]
  },
  {
   "cell_type": "code",
   "execution_count": 30,
   "metadata": {},
   "outputs": [
    {
     "name": "stdout",
     "output_type": "stream",
     "text": [
      "[True, 1, 0, None, 'x', False, 2, True]\n"
     ]
    }
   ],
   "source": [
    "list5 = [True, 1, 0 ,'x',None, 'x', False, 2, True]\n",
    "# list.remove(a)会删除列表中第一个与之相匹配的数\n",
    "list5.remove('x')\n",
    "print(list5)"
   ]
  },
  {
   "cell_type": "markdown",
   "metadata": {},
   "source": [
    "##### 6. 反转列表 [0,1,2,3,4,5,6,7] 后给出中元素 5 的索引号。"
   ]
  },
  {
   "cell_type": "code",
   "execution_count": 38,
   "metadata": {},
   "outputs": [
    {
     "data": {
      "text/plain": [
       "2"
      ]
     },
     "execution_count": 38,
     "metadata": {},
     "output_type": "execute_result"
    }
   ],
   "source": [
    "list6 = [0, 1, 2, 3, 4, 5, 6, 7]\n",
    "list6.reverse()\n",
    "list6.index(5)"
   ]
  },
  {
   "cell_type": "markdown",
   "metadata": {},
   "source": [
    "##### 7. 从列表 [True,1,0,‘x’,None,‘x’,False,2,True] 中删除索引号为4的元素"
   ]
  },
  {
   "cell_type": "code",
   "execution_count": 42,
   "metadata": {},
   "outputs": [
    {
     "name": "stdout",
     "output_type": "stream",
     "text": [
      "[True, 1, 0, 'x', 'x', False, 2, True]\n"
     ]
    }
   ],
   "source": [
    "list7 = [True, 1,0,'x',None,'x',False,2,True]\n",
    "list7.remove(None)\n",
    "print(list7)"
   ]
  },
  {
   "cell_type": "markdown",
   "metadata": {},
   "source": [
    "##### 8. 删除列表中索引号为奇数（或偶数）的元素"
   ]
  },
  {
   "cell_type": "code",
   "execution_count": 45,
   "metadata": {},
   "outputs": [
    {
     "name": "stdout",
     "output_type": "stream",
     "text": [
      "[2, 3, 4, 5, 6, 7, 8]\n",
      "[2, 4, 5, 6, 7, 8]\n",
      "[2, 4, 6, 7, 8]\n",
      "[2, 4, 6, 8]\n"
     ]
    }
   ],
   "source": [
    "list8 = [1, 2, 3, 4, 5, 6, 7, 8]\n",
    "for i in list8:\n",
    "    if i % 2 != 0:\n",
    "        list8.remove(i)\n",
    "    print(list8)"
   ]
  },
  {
   "cell_type": "markdown",
   "metadata": {},
   "source": [
    "##### 9. 清空列表中的所有元素。"
   ]
  },
  {
   "cell_type": "code",
   "execution_count": 49,
   "metadata": {},
   "outputs": [
    {
     "name": "stdout",
     "output_type": "stream",
     "text": [
      "[]\n"
     ]
    }
   ],
   "source": [
    "list9 = [1, 2, 3, 4, 5]\n",
    "del list9[-5:]\n",
    "print(list9)"
   ]
  },
  {
   "cell_type": "markdown",
   "metadata": {},
   "source": [
    "##### 10. 对列表 [3,0,8,5,7] 分别做升序和降序排列"
   ]
  },
  {
   "cell_type": "code",
   "execution_count": 56,
   "metadata": {},
   "outputs": [
    {
     "name": "stdout",
     "output_type": "stream",
     "text": [
      "[0, 3, 5, 7, 8]\n",
      "[8, 7, 5, 3, 0]\n"
     ]
    }
   ],
   "source": [
    "list10 = [3, 0, 8, 5, 7]\n",
    "list10.sort()# 升序\n",
    "print(list10)\n",
    "\n",
    "list10.sort(reverse = True) #降序\n",
    "print(list10)"
   ]
  },
  {
   "cell_type": "markdown",
   "metadata": {},
   "source": [
    "##### 11.将列表 [3,0,8,5,7] 中大于 5 元素置为1，其余元素置为0。"
   ]
  },
  {
   "cell_type": "code",
   "execution_count": 6,
   "metadata": {},
   "outputs": [
    {
     "name": "stdout",
     "output_type": "stream",
     "text": [
      "[0, 0, 1, 0, 1]\n"
     ]
    }
   ],
   "source": [
    "list11 = [3, 0, 8, 5, 7]\n",
    "for i in list11:\n",
    "    if i > 5:\n",
    "        list11[list11.index(i)] = 1\n",
    "    else:\n",
    "        list11[list11.index(i)] = 0\n",
    "print(list11)"
   ]
  },
  {
   "cell_type": "markdown",
   "metadata": {},
   "source": [
    "##### 12.遍历列表 [‘x’,‘y’,‘z’]，打印每一个元素及其对应的索引号。"
   ]
  },
  {
   "cell_type": "code",
   "execution_count": 9,
   "metadata": {},
   "outputs": [
    {
     "name": "stdout",
     "output_type": "stream",
     "text": [
      "x\n",
      "0\n",
      "y\n",
      "1\n",
      "z\n",
      "2\n"
     ]
    }
   ],
   "source": [
    "list12 = ['x', 'y', 'z']\n",
    "for i in list12:\n",
    "    print(i)\n",
    "    print(list12.index(i))"
   ]
  },
  {
   "cell_type": "markdown",
   "metadata": {},
   "source": [
    "##### 13. 将列表 [0, 1, 2, 3, 4, 5, 6, 7, 8, 9] 拆分为奇数组和偶数组两个列表。"
   ]
  },
  {
   "cell_type": "code",
   "execution_count": 14,
   "metadata": {},
   "outputs": [
    {
     "name": "stdout",
     "output_type": "stream",
     "text": [
      "[1, 3, 5, 7, 9]\n",
      "[0, 2, 4, 6, 8]\n"
     ]
    }
   ],
   "source": [
    "list13 = [0, 1, 2, 3, 4, 5, 6, 7, 8, 9]\n",
    "list_odd = list13[1::2]\n",
    "print(list_odd)\n",
    "\n",
    "list_even = list13[::2]\n",
    "print(list_even)"
   ]
  },
  {
   "cell_type": "markdown",
   "metadata": {},
   "source": [
    "##### 14.分别根据每一行的首元素和尾元素大小对二维列表 [[6, 5], [3, 7], [2, 8]] 排序。"
   ]
  },
  {
   "cell_type": "code",
   "execution_count": 23,
   "metadata": {},
   "outputs": [
    {
     "name": "stdout",
     "output_type": "stream",
     "text": [
      "[[2, 8], [3, 7], [6, 5]]\n"
     ]
    }
   ],
   "source": [
    "list14 = [[6, 5], [3, 7], [2, 8]]\n",
    "list14.sort(key=lambda x:x[1],reverse = True)\n",
    "print(list14)"
   ]
  },
  {
   "cell_type": "markdown",
   "metadata": {},
   "source": [
    "##### 15.从列表 [1,4,7,2,5,8] 索引为3的位置开始，依次插入列表 [‘x’,‘y’,‘z’] 的所有元素。"
   ]
  },
  {
   "cell_type": "code",
   "execution_count": 27,
   "metadata": {},
   "outputs": [
    {
     "name": "stdout",
     "output_type": "stream",
     "text": [
      "[1, 4, 7, 'x', 'y', 'z', 2, 5, 8]\n"
     ]
    }
   ],
   "source": [
    "list15 = [1, 4, 7, 2, 5, 8]\n",
    "list_1 = ['x', 'y', 'z']\n",
    "list_1.reverse()\n",
    "for i in list_1:\n",
    "    list15.insert(3,i)\n",
    "\n",
    "print(list15)\n",
    "    "
   ]
  },
  {
   "cell_type": "markdown",
   "metadata": {},
   "source": [
    "##### 16.快速生成由 [5,50) 区间内的整数组成的列表。"
   ]
  },
  {
   "cell_type": "code",
   "execution_count": 8,
   "metadata": {},
   "outputs": [
    {
     "name": "stdout",
     "output_type": "stream",
     "text": [
      "[5, 6, 7, 8, 9, 10, 11, 12, 13, 14, 15, 16, 17, 18, 19, 20, 21, 22, 23, 24, 25, 26, 27, 28, 29, 30, 31, 32, 33, 34, 35, 36, 37, 38, 39, 40, 41, 42, 43, 44, 45, 46, 47, 48, 49]\n"
     ]
    }
   ],
   "source": [
    "list_16 = range(5,50)\n",
    "print(list(list_16))"
   ]
  },
  {
   "cell_type": "markdown",
   "metadata": {},
   "source": [
    "##### 17.若 a = [1,2,3]，令 b = a，执行 b[0] = 9， a[0]亦被改变。为何？如何避免？"
   ]
  },
  {
   "cell_type": "code",
   "execution_count": 2,
   "metadata": {},
   "outputs": [
    {
     "name": "stdout",
     "output_type": "stream",
     "text": [
      "[1, 2, 3]\n",
      "[9, 2, 3]\n"
     ]
    }
   ],
   "source": [
    "# 引用传递的问题 \n",
    "# 传递引用常常是最方面的方法，但是函数修改了传入的列表或字典，会影响原来的列表或字典。\n",
    "# 相当于两个变量指向同一个地址\n",
    "# Python中的copy()和deepcopy()函数\n",
    "# 可以用来复制列表或字典这样的可变值，而不只是复制引用\n",
    "import copy\n",
    "a = [1,2,3]\n",
    "b = copy.copy(a)\n",
    "b[0] = 9\n",
    "print (a)\n",
    "print (b)"
   ]
  },
  {
   "cell_type": "markdown",
   "metadata": {},
   "source": [
    "##### 18. 将列表['x','y','z']和[1, 2, 3]转成[('x',1),('y',2),('z',3)]\n"
   ]
  },
  {
   "cell_type": "code",
   "execution_count": 6,
   "metadata": {},
   "outputs": [
    {
     "name": "stdout",
     "output_type": "stream",
     "text": [
      "[('x', 1), ('y', 2), ('z', 3)]\n"
     ]
    }
   ],
   "source": [
    "# zip() 函数用于将可迭代的对象作为参数，将对象中对应的元素打包成一个个元组，\n",
    "# 然后返回这些元组组成的列表\n",
    "a = ['x','y','z']\n",
    "b = [1,2,3]\n",
    "c = list(zip(a,b))\n",
    "print (c)"
   ]
  },
  {
   "cell_type": "markdown",
   "metadata": {},
   "source": [
    "#### 19. 以列表的形式返回字典{'Alice':20,'Beth':18,'Cecil':21}中所有的键"
   ]
  },
  {
   "cell_type": "code",
   "execution_count": 9,
   "metadata": {},
   "outputs": [
    {
     "data": {
      "text/plain": [
       "['Alice', 'Beth', 'Cecil']"
      ]
     },
     "execution_count": 9,
     "metadata": {},
     "output_type": "execute_result"
    }
   ],
   "source": [
    "# 字典有3个方法，它们返回类似列表的值，分别对应于字典的键/值/和键-值对：\n",
    "# keys()/value()/items()\n",
    "spam = {'Alice':20,'Beth':18,'Cecil':21}\n",
    "list(spam.keys())"
   ]
  },
  {
   "cell_type": "markdown",
   "metadata": {},
   "source": [
    "#### 20. 以列表形式返回字典 {‘Alice’: 20, ‘Beth’: 18, ‘Cecil’: 21} 中所有的值。"
   ]
  },
  {
   "cell_type": "code",
   "execution_count": 13,
   "metadata": {},
   "outputs": [
    {
     "data": {
      "text/plain": [
       "[20, 18, 21]"
      ]
     },
     "execution_count": 13,
     "metadata": {},
     "output_type": "execute_result"
    }
   ],
   "source": [
    "spam = {'Alice': 20, 'Beth': 18, 'Cecil': 21}\n",
    "list(spam.values())"
   ]
  },
  {
   "cell_type": "markdown",
   "metadata": {},
   "source": [
    "#### 21. 以列表形式返回字典 {‘Alice’: 20, ‘Beth’: 18, ‘Cecil’: 21} 中所有键值对组成的元组。"
   ]
  },
  {
   "cell_type": "code",
   "execution_count": 14,
   "metadata": {},
   "outputs": [
    {
     "data": {
      "text/plain": [
       "[('Alice', 20), ('Beth', 18), ('Cecil', 21)]"
      ]
     },
     "execution_count": 14,
     "metadata": {},
     "output_type": "execute_result"
    }
   ],
   "source": [
    "spam = {'Alice': 20, 'Beth': 18, 'Cecil': 21}\n",
    "list(spam.items())"
   ]
  },
  {
   "cell_type": "markdown",
   "metadata": {},
   "source": [
    "#### 22.向字典 {‘Alice’: 20, ‘Beth’: 18, ‘Cecil’: 21} 中追加 ‘David’:19 键值对，更新Cecil的值为17"
   ]
  },
  {
   "cell_type": "code",
   "execution_count": 19,
   "metadata": {},
   "outputs": [
    {
     "name": "stdout",
     "output_type": "stream",
     "text": [
      "{'Alice': 20, 'Beth': 18, 'Cecil': 21, 'David': 19}\n"
     ]
    }
   ],
   "source": [
    "# 字典是python中唯一的映射类型，采用键值对(key-value)的像是存储的数据类型\n",
    "# python对可以进行哈希函数运算，根据计算的结果决定value的存储地址，所以字典是无序的且key是可哈希的\n",
    "# 可哈希表示的keyb必须是不可逆变类型，如：数字/字符串/元组\n",
    "# 方法1\n",
    "# spam = {'Alice': 20, 'Beth': 18, 'Cecil': 21}\n",
    "# spam['David'] = 19\n",
    "# spam['Cecil'] = 17\n",
    "# 方法2\n",
    "spam = {'Alice': 20, 'Beth': 18, 'Cecil': 21}\n",
    "spam.setdefault('David',19)\n",
    "print(spam)"
   ]
  },
  {
   "cell_type": "markdown",
   "metadata": {},
   "source": [
    "#### 23.删除字典 {‘Alice’: 20, ‘Beth’: 18, ‘Cecil’: 21} 中的Beth键后，清空该字典"
   ]
  },
  {
   "cell_type": "code",
   "execution_count": 21,
   "metadata": {},
   "outputs": [
    {
     "name": "stdout",
     "output_type": "stream",
     "text": [
      "{'Beth': 18, 'Cecil': 21}\n"
     ]
    }
   ],
   "source": [
    "# 字典的删除(pop(), popitem(),clear(),del\n",
    "spam = {'Alice': 20, 'Beth': 18, 'Cecil': 21}\n",
    "spam.pop('Alice')\n",
    "print(spam)"
   ]
  },
  {
   "cell_type": "markdown",
   "metadata": {},
   "source": [
    "#### 24. 判断 David 和 Alice 是否在字典 {‘Alice’: 20, ‘Beth’: 18, ‘Cecil’: 21} 中。"
   ]
  },
  {
   "cell_type": "code",
   "execution_count": 25,
   "metadata": {},
   "outputs": [
    {
     "name": "stdout",
     "output_type": "stream",
     "text": [
      "20\n"
     ]
    },
    {
     "ename": "KeyError",
     "evalue": "'David'",
     "output_type": "error",
     "traceback": [
      "\u001b[1;31m---------------------------------------------------------------------------\u001b[0m",
      "\u001b[1;31mKeyError\u001b[0m                                  Traceback (most recent call last)",
      "\u001b[1;32m<ipython-input-25-3f52dd29dd87>\u001b[0m in \u001b[0;36m<module>\u001b[1;34m()\u001b[0m\n\u001b[0;32m      3\u001b[0m \u001b[0mspam\u001b[0m \u001b[1;33m=\u001b[0m \u001b[1;33m{\u001b[0m\u001b[1;34m'Alice'\u001b[0m\u001b[1;33m:\u001b[0m \u001b[1;36m20\u001b[0m\u001b[1;33m,\u001b[0m \u001b[1;34m'Beth'\u001b[0m\u001b[1;33m:\u001b[0m \u001b[1;36m18\u001b[0m\u001b[1;33m,\u001b[0m \u001b[1;34m'Cecil'\u001b[0m\u001b[1;33m:\u001b[0m \u001b[1;36m21\u001b[0m\u001b[1;33m}\u001b[0m\u001b[1;33m\u001b[0m\u001b[0m\n\u001b[0;32m      4\u001b[0m \u001b[0mprint\u001b[0m\u001b[1;33m(\u001b[0m\u001b[0mspam\u001b[0m\u001b[1;33m[\u001b[0m\u001b[1;34m'Alice'\u001b[0m\u001b[1;33m]\u001b[0m\u001b[1;33m)\u001b[0m\u001b[1;33m\u001b[0m\u001b[0m\n\u001b[1;32m----> 5\u001b[1;33m \u001b[0mprint\u001b[0m\u001b[1;33m(\u001b[0m\u001b[0mspam\u001b[0m\u001b[1;33m[\u001b[0m\u001b[1;34m'David'\u001b[0m\u001b[1;33m]\u001b[0m\u001b[1;33m)\u001b[0m\u001b[1;33m\u001b[0m\u001b[0m\n\u001b[0m",
      "\u001b[1;31mKeyError\u001b[0m: 'David'"
     ]
    }
   ],
   "source": [
    "# dic[key]\n",
    "# 可以通过key来索引查询自己的元素，如果查不到，则会报错\n",
    "spam = {'Alice': 20, 'Beth': 18, 'Cecil': 21}\n",
    "print(spam['Alice'])\n",
    "print(spam['David'])"
   ]
  },
  {
   "cell_type": "markdown",
   "metadata": {},
   "source": [
    "#### 25. 遍历字典 {‘Alice’: 20, ‘Beth’: 18, ‘Cecil’: 21}，打印键值对。"
   ]
  },
  {
   "cell_type": "code",
   "execution_count": 27,
   "metadata": {},
   "outputs": [
    {
     "name": "stdout",
     "output_type": "stream",
     "text": [
      "Alice 20\n",
      "Beth 18\n",
      "Cecil 21\n"
     ]
    }
   ],
   "source": [
    "spam = {'Alice': 20, 'Beth': 18, 'Cecil': 21}\n",
    "for key,value in spam.items():\n",
    "    print (key,value)"
   ]
  },
  {
   "cell_type": "markdown",
   "metadata": {},
   "source": [
    "#### 26. 若 a = dict()，令 b = a，执行 b.update({‘x’:1})， a亦被改变。为何？如何避免？"
   ]
  },
  {
   "cell_type": "code",
   "execution_count": 37,
   "metadata": {},
   "outputs": [
    {
     "name": "stdout",
     "output_type": "stream",
     "text": [
      "{} {'x': 1}\n"
     ]
    }
   ],
   "source": [
    "# 字典的赋值，浅拷贝，深拷贝\n",
    "import copy\n",
    "a = dict()\n",
    "b = a.copy()\n",
    "b.update({'x':1})\n",
    "print(a,b)"
   ]
  },
  {
   "cell_type": "markdown",
   "metadata": {},
   "source": [
    "#### 27. 以列表 [‘A’,‘B’,‘C’,‘D’,‘E’,‘F’,‘G’,‘H’] 中的每一个元素为键，默认值都是0，创建一个字典。"
   ]
  },
  {
   "cell_type": "code",
   "execution_count": 57,
   "metadata": {},
   "outputs": [
    {
     "name": "stdout",
     "output_type": "stream",
     "text": [
      "{'A': 0, 'B': 0, 'C': 0, 'D': 0, 'E': 0}\n"
     ]
    }
   ],
   "source": [
    "new_list = ['A','B','C','D','E']\n",
    "new_dict = {}\n",
    "for i in new_list:\n",
    "    new_dict[i[0]] = 0\n",
    "    \n",
    "print(new_dict)"
   ]
  },
  {
   "cell_type": "markdown",
   "metadata": {},
   "source": [
    "#### 28. 将二维结构[['a',1],['b',2]]和(('x',3),('y',4))转变成字典"
   ]
  },
  {
   "cell_type": "code",
   "execution_count": 62,
   "metadata": {},
   "outputs": [
    {
     "name": "stdout",
     "output_type": "stream",
     "text": [
      "{'a': 1, 'b': 2} {'x': 3, 'y': 4}\n"
     ]
    }
   ],
   "source": [
    "new_list = [['a',1],['b',2]]\n",
    "new_tuple = (('x',3),('y',4))\n",
    "new_dict1 = dict(new_list)\n",
    "new_dict2 = dict(new_tuple)\n",
    "print(new_dict1,new_dict2)"
   ]
  },
  {
   "cell_type": "markdown",
   "metadata": {},
   "source": [
    "#### 29. 将元组 (1,2) 和 (3,4) 合并成一个元组。"
   ]
  },
  {
   "cell_type": "code",
   "execution_count": 70,
   "metadata": {},
   "outputs": [
    {
     "name": "stdout",
     "output_type": "stream",
     "text": [
      "(1, 2, 3, 4)\n"
     ]
    }
   ],
   "source": [
    "tuple1 = (1,2)\n",
    "tuple2 = (3,4)\n",
    "new_tuple = tuple1 + tuple2\n",
    "print(new_tuple)"
   ]
  },
  {
   "cell_type": "markdown",
   "metadata": {},
   "source": [
    "#### 30. 将空间坐标元组 (1,2,3) 的三个元素解包对应到变量 x,y,z。"
   ]
  },
  {
   "cell_type": "code",
   "execution_count": 79,
   "metadata": {},
   "outputs": [
    {
     "name": "stdout",
     "output_type": "stream",
     "text": [
      "{1: 'x', 2: 'y', 3: 'z'}\n"
     ]
    }
   ],
   "source": [
    "tuple1, tuple2 = (1,2,3),('x','y','z')\n",
    "# zip()函数用于将可迭代的对象作为参数，将对象中对应的元素打包成一个个元组，然后返回\n",
    "# 这些元组组成的列表\n",
    "new_tuple = zip(tuple1,tuple2)\n",
    "new_dict = dict(new_tuple)\n",
    "print(new_dict)"
   ]
  },
  {
   "cell_type": "markdown",
   "metadata": {},
   "source": [
    "#### 31. 返回元组 (‘Alice’,‘Beth’,‘Cecil’) 中 ‘Cecil’ 元素的索引号。"
   ]
  },
  {
   "cell_type": "code",
   "execution_count": 2,
   "metadata": {},
   "outputs": [
    {
     "data": {
      "text/plain": [
       "2"
      ]
     },
     "execution_count": 2,
     "metadata": {},
     "output_type": "execute_result"
    }
   ],
   "source": [
    "# Python 元组index()方法用于从元组中找出某个对象第一个匹配项的索引位置。\n",
    "# 如果这个对象不在元组中会报一个异常\n",
    "tup =  ('Alice','Beth','Cecil') \n",
    "tup.index('Cecil')"
   ]
  },
  {
   "cell_type": "markdown",
   "metadata": {},
   "source": [
    "#### 32. 返回元组 (2,5,3,2,4) 中元素 2 的个数"
   ]
  },
  {
   "cell_type": "code",
   "execution_count": 9,
   "metadata": {},
   "outputs": [
    {
     "name": "stdout",
     "output_type": "stream",
     "text": [
      "2\n"
     ]
    }
   ],
   "source": [
    "tup = (2,5,3,2,4)\n",
    "count = 0\n",
    "for i in tup:\n",
    "    if i == 2:\n",
    "        count += 1\n",
    "print(count)"
   ]
  },
  {
   "cell_type": "markdown",
   "metadata": {},
   "source": [
    "#### 33. 返回在元组 (2,5,3,7) 索引号为2的位置插入元素 9 之后的新元组。"
   ]
  },
  {
   "cell_type": "code",
   "execution_count": 12,
   "metadata": {},
   "outputs": [
    {
     "data": {
      "text/plain": [
       "(2, 5, 9, 3, 7)"
      ]
     },
     "execution_count": 12,
     "metadata": {},
     "output_type": "execute_result"
    }
   ],
   "source": [
    "tup = (2,5,3,7)\n",
    "tup = tup[:2] + (9,) + tup[2:]\n",
    "tup"
   ]
  },
  {
   "cell_type": "markdown",
   "metadata": {},
   "source": [
    "#### 34. 创建一个空集合，增加{'x','y','z'}三个元素"
   ]
  },
  {
   "cell_type": "code",
   "execution_count": 51,
   "metadata": {},
   "outputs": [
    {
     "name": "stdout",
     "output_type": "stream",
     "text": [
      "{'x', 'z', 'y'}\n"
     ]
    }
   ],
   "source": [
    "# set 和 dict类似，也是一组key的集合，但不存储value。\n",
    "# 由于key不能重复，所以在set中，没有重复的key\n",
    "\n",
    "# 注意：\n",
    "# 创建一个空集合必须用set()而不是{ }，{ }是用来创建一个空字典\n",
    "se = set()\n",
    "se.update('x','y','z')\n",
    "print(se)"
   ]
  },
  {
   "cell_type": "markdown",
   "metadata": {},
   "source": [
    "#### 35. 判断 ‘Cecil’ 是否在元组 (‘Alice’,‘Beth’,‘Cecil’) 中"
   ]
  },
  {
   "cell_type": "code",
   "execution_count": 38,
   "metadata": {},
   "outputs": [
    {
     "data": {
      "text/plain": [
       "2"
      ]
     },
     "execution_count": 38,
     "metadata": {},
     "output_type": "execute_result"
    }
   ],
   "source": [
    "tup = ('Alice','Beth','Cecil') \n",
    "tup.index('Cecil')\n",
    "# 用index方法判断的返回值看元素在不在元组中"
   ]
  },
  {
   "cell_type": "markdown",
   "metadata": {},
   "source": [
    "#### 36. 删除集合 {‘x’,‘y’,‘z’} 中的 ‘z’ 元素，增j加元素 ‘w’，然后清空整个集合"
   ]
  },
  {
   "cell_type": "code",
   "execution_count": 48,
   "metadata": {},
   "outputs": [
    {
     "name": "stdout",
     "output_type": "stream",
     "text": [
      "{'x', 'y'}\n",
      "{'x', 'w', 'y'}\n",
      "set()\n"
     ]
    }
   ],
   "source": [
    "# add()为集合添加元素\n",
    "# clear() 移除集合中的所以元素\n",
    "# pop() 随机移除元素\n",
    "# remove() 移除指定的元素\n",
    "\n",
    "se = {'x','y','z'}\n",
    "se.remove('z')\n",
    "print(se)\n",
    "se.add('w')\n",
    "print(se)\n",
    "se.clear()\n",
    "print(se)"
   ]
  },
  {
   "cell_type": "markdown",
   "metadata": {},
   "source": [
    "#### 37.返回集合 {‘A’,‘D’,‘B’} 中未出现在集合 {‘D’,‘E’,‘C’} 中的元素（差集）"
   ]
  },
  {
   "cell_type": "code",
   "execution_count": 52,
   "metadata": {},
   "outputs": [
    {
     "data": {
      "text/plain": [
       "{'C', 'E'}"
      ]
     },
     "execution_count": 52,
     "metadata": {},
     "output_type": "execute_result"
    }
   ],
   "source": [
    "set1 = {'A','D','B'}\n",
    "set2 = {'D','E','C'}\n",
    "set2 - set1"
   ]
  },
  {
   "cell_type": "markdown",
   "metadata": {},
   "source": [
    "#### 38.返回两个集合 {‘A’,‘D’,‘B’} 和 {‘D’,‘E’,‘C’} 的并集。"
   ]
  },
  {
   "cell_type": "code",
   "execution_count": 54,
   "metadata": {},
   "outputs": [
    {
     "data": {
      "text/plain": [
       "{'A', 'B', 'C', 'D', 'E'}"
      ]
     },
     "execution_count": 54,
     "metadata": {},
     "output_type": "execute_result"
    }
   ],
   "source": [
    "set1 = {'A','D','B'}\n",
    "set2 = {'D','E','C'}\n",
    "set1 | set2"
   ]
  },
  {
   "cell_type": "markdown",
   "metadata": {},
   "source": [
    "#### 39. 返回两个集合 {‘A’,‘D’,‘B’} 和 {‘D’,‘E’,‘C’} 的交集。"
   ]
  },
  {
   "cell_type": "code",
   "execution_count": 55,
   "metadata": {},
   "outputs": [
    {
     "data": {
      "text/plain": [
       "{'D'}"
      ]
     },
     "execution_count": 55,
     "metadata": {},
     "output_type": "execute_result"
    }
   ],
   "source": [
    "set1 = {'A','D','B'}\n",
    "set2 = {'D','E','C'}\n",
    "set1 & set2"
   ]
  },
  {
   "cell_type": "markdown",
   "metadata": {},
   "source": [
    "#### 40. 返回两个集合 {‘A’,‘D’,‘B’} 和 {‘D’,‘E’,‘C’} 未重复的元素的集合。"
   ]
  },
  {
   "cell_type": "code",
   "execution_count": 56,
   "metadata": {},
   "outputs": [
    {
     "data": {
      "text/plain": [
       "{'A', 'B', 'C', 'E'}"
      ]
     },
     "execution_count": 56,
     "metadata": {},
     "output_type": "execute_result"
    }
   ],
   "source": [
    "set1 = {'A','D','B'}\n",
    "set2 = {'D','E','C'}\n",
    "set1 ^ set2"
   ]
  },
  {
   "cell_type": "markdown",
   "metadata": {},
   "source": [
    "#### 41. 判断两个集合 {‘A’,‘D’,‘B’} 和 {‘D’,‘E’,‘C’} 是否有重复元素。"
   ]
  },
  {
   "cell_type": "code",
   "execution_count": 60,
   "metadata": {},
   "outputs": [
    {
     "name": "stdout",
     "output_type": "stream",
     "text": [
      "{'B', 'C', 'A', 'E'}\n"
     ]
    }
   ],
   "source": [
    "# symmetric_difference() 返回两个集合中不重复的元素集合\n",
    "set1 = {'A','D','B'}\n",
    "set2 = {'D','E','C'}\n",
    "new_set = set1.symmetric_difference(set2)\n",
    "print(new_set)"
   ]
  },
  {
   "cell_type": "markdown",
   "metadata": {},
   "source": [
    "#### 42. 判断集合 {‘A’,‘C’} 是否是集合 {‘D’,‘C’,‘E’,‘A’} 的子集。"
   ]
  },
  {
   "cell_type": "code",
   "execution_count": 62,
   "metadata": {},
   "outputs": [
    {
     "name": "stdout",
     "output_type": "stream",
     "text": [
      "True\n"
     ]
    }
   ],
   "source": [
    "# issubsset() 用于判断集合的所有元素是否都包含在指定集合中，如果是则返回True，否\n",
    "# 则返回False\n",
    "set1 = {'A','C'}\n",
    "set2 = {'D','C','E','A'}\n",
    "print(set1.issubset(set2))"
   ]
  },
  {
   "cell_type": "markdown",
   "metadata": {},
   "source": [
    "#### 43. 去除数组 [1,2,5,2,3,4,5,‘x’,4,‘x’] 中的重复元素。"
   ]
  },
  {
   "cell_type": "code",
   "execution_count": 87,
   "metadata": {},
   "outputs": [
    {
     "name": "stdout",
     "output_type": "stream",
     "text": [
      "[1, 2, 5, 3, 4, 'x']\n"
     ]
    }
   ],
   "source": [
    "list1 = [1,2,5,2,3,4,5,'x',4,'x']\n",
    "new_list = []\n",
    "for i in list1:\n",
    "    if i not in new_list:\n",
    "        new_list.append(i)\n",
    "print(new_list)"
   ]
  },
  {
   "cell_type": "markdown",
   "metadata": {},
   "source": [
    "#### 44. 返回字符串 ‘abCdEfg’ 的全部大写、全部小写和大下写互换形式"
   ]
  },
  {
   "cell_type": "code",
   "execution_count": 115,
   "metadata": {},
   "outputs": [
    {
     "name": "stdout",
     "output_type": "stream",
     "text": [
      "SmallNum a\n",
      "SmallNum b\n",
      "BigNum C\n",
      "SmallNum d\n",
      "BigNum E\n",
      "SmallNum f\n",
      "SmallNum g\n"
     ]
    },
    {
     "data": {
      "text/plain": [
       "'abcdefg'"
      ]
     },
     "execution_count": 115,
     "metadata": {},
     "output_type": "execute_result"
    }
   ],
   "source": [
    "# upper() 把所有字符中的小写字母转换成大写字母\n",
    "# lower() 把所有字符中的大写字母转换成小写字母\n",
    "# isupper() 识别字符串中的大写字母\n",
    "# islower() 识别字符串中的小写字母\n",
    "string = 'abCdEfg'\n",
    "BigNum = 0\n",
    "SmallNum = 0\n",
    "Num = 0\n",
    "for c in string:\n",
    "    if c.isupper():\n",
    "        print(\"BigNum \" + c)\n",
    "    elif c.islower():\n",
    "        print(\"SmallNum \" + c)\n",
    "        \n",
    "string.upper()\n",
    "string.lower()"
   ]
  },
  {
   "cell_type": "markdown",
   "metadata": {},
   "source": [
    "#### 45. 判断字符串 ‘abCdEfg’ 是否首字母大写，字母是否全部小写，字母是否全部大写。"
   ]
  },
  {
   "cell_type": "code",
   "execution_count": 122,
   "metadata": {},
   "outputs": [
    {
     "name": "stdout",
     "output_type": "stream",
     "text": [
      "False\n",
      "False\n",
      "False\n"
     ]
    }
   ],
   "source": [
    "# istitle() 判断字符串中的首字母是不是大写字母\n",
    "# isupper() 如果字符串中包含至少一个区分大小写的字符，\n",
    "# 并且所有这些(区分大小写的)字符都是大写，则返回 True，否则返回 False\n",
    "# islower() 如果字符串中包含至少一个区分大小写的字符，\n",
    "# 并且所有这些(区分大小写的)字符都是小写，则返回 True，否则返回 False\n",
    "\n",
    "string = 'abCdEfg'\n",
    "print(string.istitle())\n",
    "print(string.isupper())\n",
    "print(string.islower())"
   ]
  },
  {
   "cell_type": "markdown",
   "metadata": {},
   "source": [
    "#### 46. 返回字符串 ‘this is python’ 首字母大写以及字符串内每个单词首字母大写形式。"
   ]
  },
  {
   "cell_type": "code",
   "execution_count": 138,
   "metadata": {},
   "outputs": [
    {
     "name": "stdout",
     "output_type": "stream",
     "text": [
      "This is python\n",
      "This Is Python\n"
     ]
    },
    {
     "data": {
      "text/plain": [
       "\"\\nl = c.split(' ')\\ntemp = []\\nfor part in l:\\n    part.capitalize()\\n    temp.append(part)\\n    \\nprint (' '.join(temp))\\n\\n\""
      ]
     },
     "execution_count": 138,
     "metadata": {},
     "output_type": "execute_result"
    }
   ],
   "source": [
    "# capitalize() 方法字符串的第一个字母变成大写，其他字母变小写\n",
    "# title() 方法返回\"标题化\"的字符串,就是说所有单词都是以大写开始，其余字母均为小写(见 istitle())。\n",
    "c = 'this is python'\n",
    "print(c.capitalize())\n",
    "\n",
    "print(c.title())\n",
    "\n",
    "\"\"\"\n",
    "l = c.split(' ')\n",
    "temp = []\n",
    "for part in l:\n",
    "    part.capitalize()\n",
    "    temp.append(part)\n",
    "    \n",
    "print (' '.join(temp))\n",
    "\n",
    "\"\"\"\n"
   ]
  },
  {
   "cell_type": "markdown",
   "metadata": {},
   "source": [
    "#### 47. 判断字符串 ‘this is python’ 是否以 ‘this’ 开头，又是否以 ‘python’ 结尾。"
   ]
  },
  {
   "cell_type": "code",
   "execution_count": 148,
   "metadata": {},
   "outputs": [
    {
     "name": "stdout",
     "output_type": "stream",
     "text": [
      "True\n",
      "True\n"
     ]
    }
   ],
   "source": [
    "# 通过startwith()和endswith()方法判断是否以某个字符开头或结尾\n",
    "c = \"this is python\"\n",
    "if c.startswith('this'):\n",
    "    print(True)\n",
    "if c.endswith('python'):\n",
    "    print(True)"
   ]
  },
  {
   "cell_type": "markdown",
   "metadata": {},
   "source": [
    "#### 48. 返回字符串 ‘this is python’ 中 ‘is’ 的出现次数。"
   ]
  },
  {
   "cell_type": "code",
   "execution_count": 152,
   "metadata": {},
   "outputs": [
    {
     "name": "stdout",
     "output_type": "stream",
     "text": [
      "2\n"
     ]
    }
   ],
   "source": [
    "# count() 方法用于统计字符串里某个字符出现的次数。可选参数为在字符串搜索的开始与结束位置。\n",
    "c = \"this is python\"\n",
    "res = c.count('is')\n",
    "print(res)"
   ]
  },
  {
   "cell_type": "markdown",
   "metadata": {},
   "source": [
    "#### 49. 返回字符串 ‘this is python’ 中 ‘is’ 首次出现和最后一次出现的位置。"
   ]
  },
  {
   "cell_type": "code",
   "execution_count": 160,
   "metadata": {},
   "outputs": [
    {
     "name": "stdout",
     "output_type": "stream",
     "text": [
      "2\n",
      "5\n"
     ]
    }
   ],
   "source": [
    "# find 首次出现的索引位置\n",
    "# rfind 最后一次出现索引的位置\n",
    "\n",
    "c = \"this is python\"\n",
    "print(c.find('is')) \n",
    "print(c.rfind('is'))"
   ]
  },
  {
   "cell_type": "markdown",
   "metadata": {},
   "source": [
    "#### 50. 将字符串 ‘this is python’ 切片成3个单词。"
   ]
  },
  {
   "cell_type": "code",
   "execution_count": 161,
   "metadata": {},
   "outputs": [
    {
     "name": "stdout",
     "output_type": "stream",
     "text": [
      "['this', 'is', 'python']\n"
     ]
    }
   ],
   "source": [
    "# split()通过对指定的分隔符对字符串进行分割，\n",
    "# str.split(str='',num=string.count(str))\n",
    "# str-- 分隔符，默认认为所有的空字符，包括空格/换行/制表符\n",
    "# num -- 分割的次数，默认为-1,即分割所有\n",
    "c = \"this is python\"\n",
    "print(c.split())"
   ]
  },
  {
   "cell_type": "code",
   "execution_count": null,
   "metadata": {},
   "outputs": [],
   "source": []
  }
 ],
 "metadata": {
  "kernelspec": {
   "display_name": "Python 3",
   "language": "python",
   "name": "python3"
  },
  "language_info": {
   "codemirror_mode": {
    "name": "ipython",
    "version": 3
   },
   "file_extension": ".py",
   "mimetype": "text/x-python",
   "name": "python",
   "nbconvert_exporter": "python",
   "pygments_lexer": "ipython3",
   "version": "3.7.0"
  }
 },
 "nbformat": 4,
 "nbformat_minor": 2
}
