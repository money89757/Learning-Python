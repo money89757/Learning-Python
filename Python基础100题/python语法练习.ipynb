{
 "cells": [
  {
   "cell_type": "markdown",
   "metadata": {},
   "source": [
    "# python 语法练习"
   ]
  },
  {
   "cell_type": "markdown",
   "metadata": {},
   "source": [
    "##### 1. 将元组（1，2，3）和集合{4，5，6}合并成一个列表"
   ]
  },
  {
   "cell_type": "code",
   "execution_count": 4,
   "metadata": {},
   "outputs": [
    {
     "name": "stdout",
     "output_type": "stream",
     "text": [
      "[1, 2, 3, 4, 5, 6]\n"
     ]
    }
   ],
   "source": [
    "tup = (1,2,3)\n",
    "se = {4,5,6}\n",
    "list1 = list(tup)+list(se)\n",
    "print(list1)"
   ]
  },
  {
   "cell_type": "markdown",
   "metadata": {},
   "source": [
    "##### 2.在列表[1,2,3,4,5,6] 首尾添加整型元素7和0 "
   ]
  },
  {
   "cell_type": "code",
   "execution_count": 6,
   "metadata": {},
   "outputs": [
    {
     "name": "stdout",
     "output_type": "stream",
     "text": [
      "[7, 1, 2, 3, 4, 5, 6, 0]\n"
     ]
    }
   ],
   "source": [
    "list2 = [1, 2, 3, 4, 5, 6]\n",
    "list2.insert(0,7)\n",
    "list2.append(0)\n",
    "print(list2)"
   ]
  },
  {
   "cell_type": "markdown",
   "metadata": {},
   "source": [
    "##### 3.反转列表[0,1,2,3,4,5,6,7]"
   ]
  },
  {
   "cell_type": "code",
   "execution_count": 8,
   "metadata": {},
   "outputs": [
    {
     "name": "stdout",
     "output_type": "stream",
     "text": [
      "[7, 6, 5, 4, 3, 2, 1, 0]\n"
     ]
    }
   ],
   "source": [
    "list3 = [0, 1, 2, 3, 4, 5, 6, 7]\n",
    "list3.reverse()\n",
    "print(list3)"
   ]
  },
  {
   "cell_type": "markdown",
   "metadata": {},
   "source": [
    "##### 4. 分别统计列表[True, False, 0, 1, 2]中的Ture, False, 0, 1, 2的元素个数，看有什么发现"
   ]
  },
  {
   "cell_type": "code",
   "execution_count": 21,
   "metadata": {},
   "outputs": [
    {
     "name": "stdout",
     "output_type": "stream",
     "text": [
      "2\n",
      "2\n",
      "2\n",
      "2\n",
      "1\n"
     ]
    }
   ],
   "source": [
    "list4 = [True, False, 0, 1, 2]\n",
    " # python中把true 映射为1\n",
    "print(list4.count(True)) \n",
    "# python中把False 映射为0\n",
    "print(list4.count(False))\n",
    "print(list4.count(0))\n",
    "print(list4.count(1))\n",
    "print(list4.count(2))"
   ]
  },
  {
   "cell_type": "markdown",
   "metadata": {},
   "source": [
    "##### 5. 从列表[True, 1, 0 ,'x',None, 'x', False, 2, True]删除元素'x'"
   ]
  },
  {
   "cell_type": "code",
   "execution_count": 30,
   "metadata": {},
   "outputs": [
    {
     "name": "stdout",
     "output_type": "stream",
     "text": [
      "[True, 1, 0, None, 'x', False, 2, True]\n"
     ]
    }
   ],
   "source": [
    "list5 = [True, 1, 0 ,'x',None, 'x', False, 2, True]\n",
    "# list.remove(a)会删除列表中第一个与之相匹配的数\n",
    "list5.remove('x')\n",
    "print(list5)"
   ]
  },
  {
   "cell_type": "markdown",
   "metadata": {},
   "source": [
    "##### 6. 反转列表 [0,1,2,3,4,5,6,7] 后给出中元素 5 的索引号。"
   ]
  },
  {
   "cell_type": "code",
   "execution_count": 38,
   "metadata": {},
   "outputs": [
    {
     "data": {
      "text/plain": [
       "2"
      ]
     },
     "execution_count": 38,
     "metadata": {},
     "output_type": "execute_result"
    }
   ],
   "source": [
    "list6 = [0, 1, 2, 3, 4, 5, 6, 7]\n",
    "list6.reverse()\n",
    "list6.index(5)"
   ]
  },
  {
   "cell_type": "markdown",
   "metadata": {},
   "source": [
    "##### 7. 从列表 [True,1,0,‘x’,None,‘x’,False,2,True] 中删除索引号为4的元素"
   ]
  },
  {
   "cell_type": "code",
   "execution_count": 42,
   "metadata": {},
   "outputs": [
    {
     "name": "stdout",
     "output_type": "stream",
     "text": [
      "[True, 1, 0, 'x', 'x', False, 2, True]\n"
     ]
    }
   ],
   "source": [
    "list7 = [True, 1,0,'x',None,'x',False,2,True]\n",
    "list7.remove(None)\n",
    "print(list7)"
   ]
  },
  {
   "cell_type": "markdown",
   "metadata": {},
   "source": [
    "##### 8. 删除列表中索引号为奇数（或偶数）的元素"
   ]
  },
  {
   "cell_type": "code",
   "execution_count": 45,
   "metadata": {},
   "outputs": [
    {
     "name": "stdout",
     "output_type": "stream",
     "text": [
      "[2, 3, 4, 5, 6, 7, 8]\n",
      "[2, 4, 5, 6, 7, 8]\n",
      "[2, 4, 6, 7, 8]\n",
      "[2, 4, 6, 8]\n"
     ]
    }
   ],
   "source": [
    "list8 = [1, 2, 3, 4, 5, 6, 7, 8]\n",
    "for i in list8:\n",
    "    if i % 2 != 0:\n",
    "        list8.remove(i)\n",
    "    print(list8)"
   ]
  },
  {
   "cell_type": "markdown",
   "metadata": {},
   "source": [
    "##### 9. 清空列表中的所有元素。"
   ]
  },
  {
   "cell_type": "code",
   "execution_count": 49,
   "metadata": {},
   "outputs": [
    {
     "name": "stdout",
     "output_type": "stream",
     "text": [
      "[]\n"
     ]
    }
   ],
   "source": [
    "list9 = [1, 2, 3, 4, 5]\n",
    "del list9[-5:]\n",
    "print(list9)"
   ]
  },
  {
   "cell_type": "markdown",
   "metadata": {},
   "source": [
    "##### 10. 对列表 [3,0,8,5,7] 分别做升序和降序排列"
   ]
  },
  {
   "cell_type": "code",
   "execution_count": 56,
   "metadata": {},
   "outputs": [
    {
     "name": "stdout",
     "output_type": "stream",
     "text": [
      "[0, 3, 5, 7, 8]\n",
      "[8, 7, 5, 3, 0]\n"
     ]
    }
   ],
   "source": [
    "list10 = [3, 0, 8, 5, 7]\n",
    "list10.sort()# 升序\n",
    "print(list10)\n",
    "\n",
    "list10.sort(reverse = True) #降序\n",
    "print(list10)"
   ]
  },
  {
   "cell_type": "markdown",
   "metadata": {},
   "source": [
    "##### 11.将列表 [3,0,8,5,7] 中大于 5 元素置为1，其余元素置为0。"
   ]
  },
  {
   "cell_type": "code",
   "execution_count": 6,
   "metadata": {},
   "outputs": [
    {
     "name": "stdout",
     "output_type": "stream",
     "text": [
      "[0, 0, 1, 0, 1]\n"
     ]
    }
   ],
   "source": [
    "list11 = [3, 0, 8, 5, 7]\n",
    "for i in list11:\n",
    "    if i > 5:\n",
    "        list11[list11.index(i)] = 1\n",
    "    else:\n",
    "        list11[list11.index(i)] = 0\n",
    "print(list11)"
   ]
  },
  {
   "cell_type": "markdown",
   "metadata": {},
   "source": [
    "##### 12.遍历列表 [‘x’,‘y’,‘z’]，打印每一个元素及其对应的索引号。"
   ]
  },
  {
   "cell_type": "code",
   "execution_count": 9,
   "metadata": {},
   "outputs": [
    {
     "name": "stdout",
     "output_type": "stream",
     "text": [
      "x\n",
      "0\n",
      "y\n",
      "1\n",
      "z\n",
      "2\n"
     ]
    }
   ],
   "source": [
    "list12 = ['x', 'y', 'z']\n",
    "for i in list12:\n",
    "    print(i)\n",
    "    print(list12.index(i))"
   ]
  },
  {
   "cell_type": "markdown",
   "metadata": {},
   "source": [
    "##### 13. 将列表 [0, 1, 2, 3, 4, 5, 6, 7, 8, 9] 拆分为奇数组和偶数组两个列表。"
   ]
  },
  {
   "cell_type": "code",
   "execution_count": 14,
   "metadata": {},
   "outputs": [
    {
     "name": "stdout",
     "output_type": "stream",
     "text": [
      "[1, 3, 5, 7, 9]\n",
      "[0, 2, 4, 6, 8]\n"
     ]
    }
   ],
   "source": [
    "list13 = [0, 1, 2, 3, 4, 5, 6, 7, 8, 9]\n",
    "list_odd = list13[1::2]\n",
    "print(list_odd)\n",
    "\n",
    "list_even = list13[::2]\n",
    "print(list_even)"
   ]
  },
  {
   "cell_type": "markdown",
   "metadata": {},
   "source": [
    "##### 14.分别根据每一行的首元素和尾元素大小对二维列表 [[6, 5], [3, 7], [2, 8]] 排序。"
   ]
  },
  {
   "cell_type": "code",
   "execution_count": 23,
   "metadata": {},
   "outputs": [
    {
     "name": "stdout",
     "output_type": "stream",
     "text": [
      "[[2, 8], [3, 7], [6, 5]]\n"
     ]
    }
   ],
   "source": [
    "list14 = [[6, 5], [3, 7], [2, 8]]\n",
    "list14.sort(key=lambda x:x[1],reverse = True)\n",
    "print(list14)"
   ]
  },
  {
   "cell_type": "markdown",
   "metadata": {},
   "source": [
    "##### 15.从列表 [1,4,7,2,5,8] 索引为3的位置开始，依次插入列表 [‘x’,‘y’,‘z’] 的所有元素。"
   ]
  },
  {
   "cell_type": "code",
   "execution_count": 27,
   "metadata": {},
   "outputs": [
    {
     "name": "stdout",
     "output_type": "stream",
     "text": [
      "[1, 4, 7, 'x', 'y', 'z', 2, 5, 8]\n"
     ]
    }
   ],
   "source": [
    "list15 = [1, 4, 7, 2, 5, 8]\n",
    "list_1 = ['x', 'y', 'z']\n",
    "list_1.reverse()\n",
    "for i in list_1:\n",
    "    list15.insert(3,i)\n",
    "\n",
    "print(list15)\n",
    "    "
   ]
  },
  {
   "cell_type": "markdown",
   "metadata": {},
   "source": [
    "##### 16.快速生成由 [5,50) 区间内的整数组成的列表。"
   ]
  },
  {
   "cell_type": "code",
   "execution_count": 8,
   "metadata": {},
   "outputs": [
    {
     "name": "stdout",
     "output_type": "stream",
     "text": [
      "[5, 6, 7, 8, 9, 10, 11, 12, 13, 14, 15, 16, 17, 18, 19, 20, 21, 22, 23, 24, 25, 26, 27, 28, 29, 30, 31, 32, 33, 34, 35, 36, 37, 38, 39, 40, 41, 42, 43, 44, 45, 46, 47, 48, 49]\n"
     ]
    }
   ],
   "source": [
    "list_16 = range(5,50)\n",
    "print(list(list_16))"
   ]
  },
  {
   "cell_type": "markdown",
   "metadata": {},
   "source": [
    "##### 17.若 a = [1,2,3]，令 b = a，执行 b[0] = 9， a[0]亦被改变。为何？如何避免？"
   ]
  },
  {
   "cell_type": "code",
   "execution_count": 2,
   "metadata": {},
   "outputs": [
    {
     "name": "stdout",
     "output_type": "stream",
     "text": [
      "[1, 2, 3]\n",
      "[9, 2, 3]\n"
     ]
    }
   ],
   "source": [
    "# 引用传递的问题 \n",
    "# 传递引用常常是最方面的方法，但是函数修改了传入的列表或字典，会影响原来的列表或字典。\n",
    "# 相当于两个变量指向同一个地址\n",
    "# Python中的copy()和deepcopy()函数\n",
    "# 可以用来复制列表或字典这样的可变值，而不只是复制引用\n",
    "import copy\n",
    "a = [1,2,3]\n",
    "b = copy.copy(a)\n",
    "b[0] = 9\n",
    "print (a)\n",
    "print (b)"
   ]
  },
  {
   "cell_type": "markdown",
   "metadata": {},
   "source": [
    "##### 18. 将列表['x','y','z']和[1, 2, 3]转成[('x',1),('y',2),('z',3)]\n"
   ]
  },
  {
   "cell_type": "code",
   "execution_count": 6,
   "metadata": {},
   "outputs": [
    {
     "name": "stdout",
     "output_type": "stream",
     "text": [
      "[('x', 1), ('y', 2), ('z', 3)]\n"
     ]
    }
   ],
   "source": [
    "# zip() 函数用于将可迭代的对象作为参数，将对象中对应的元素打包成一个个元组，\n",
    "# 然后返回这些元组组成的列表\n",
    "a = ['x','y','z']\n",
    "b = [1,2,3]\n",
    "c = list(zip(a,b))\n",
    "print (c)"
   ]
  },
  {
   "cell_type": "markdown",
   "metadata": {},
   "source": [
    "#### 19. 以列表的形式返回字典{'Alice':20,'Beth':18,'Cecil':21}中所有的键"
   ]
  },
  {
   "cell_type": "code",
   "execution_count": 9,
   "metadata": {},
   "outputs": [
    {
     "data": {
      "text/plain": [
       "['Alice', 'Beth', 'Cecil']"
      ]
     },
     "execution_count": 9,
     "metadata": {},
     "output_type": "execute_result"
    }
   ],
   "source": [
    "# 字典有3个方法，它们返回类似列表的值，分别对应于字典的键/值/和键-值对：\n",
    "# keys()/value()/items()\n",
    "spam = {'Alice':20,'Beth':18,'Cecil':21}\n",
    "list(spam.keys())"
   ]
  },
  {
   "cell_type": "markdown",
   "metadata": {},
   "source": [
    "#### 20. 以列表形式返回字典 {‘Alice’: 20, ‘Beth’: 18, ‘Cecil’: 21} 中所有的值。"
   ]
  },
  {
   "cell_type": "code",
   "execution_count": 13,
   "metadata": {},
   "outputs": [
    {
     "data": {
      "text/plain": [
       "[20, 18, 21]"
      ]
     },
     "execution_count": 13,
     "metadata": {},
     "output_type": "execute_result"
    }
   ],
   "source": [
    "spam = {'Alice': 20, 'Beth': 18, 'Cecil': 21}\n",
    "list(spam.values())"
   ]
  },
  {
   "cell_type": "markdown",
   "metadata": {},
   "source": [
    "#### 21. 以列表形式返回字典 {‘Alice’: 20, ‘Beth’: 18, ‘Cecil’: 21} 中所有键值对组成的元组。"
   ]
  },
  {
   "cell_type": "code",
   "execution_count": 14,
   "metadata": {},
   "outputs": [
    {
     "data": {
      "text/plain": [
       "[('Alice', 20), ('Beth', 18), ('Cecil', 21)]"
      ]
     },
     "execution_count": 14,
     "metadata": {},
     "output_type": "execute_result"
    }
   ],
   "source": [
    "spam = {'Alice': 20, 'Beth': 18, 'Cecil': 21}\n",
    "list(spam.items())"
   ]
  },
  {
   "cell_type": "markdown",
   "metadata": {},
   "source": [
    "#### 22.向字典 {‘Alice’: 20, ‘Beth’: 18, ‘Cecil’: 21} 中追加 ‘David’:19 键值对，更新Cecil的值为17"
   ]
  },
  {
   "cell_type": "code",
   "execution_count": 19,
   "metadata": {},
   "outputs": [
    {
     "name": "stdout",
     "output_type": "stream",
     "text": [
      "{'Alice': 20, 'Beth': 18, 'Cecil': 21, 'David': 19}\n"
     ]
    }
   ],
   "source": [
    "# 字典是python中唯一的映射类型，采用键值对(key-value)的像是存储的数据类型\n",
    "# python对可以进行哈希函数运算，根据计算的结果决定value的存储地址，所以字典是无序的且key是可哈希的\n",
    "# 可哈希表示的keyb必须是不可逆变类型，如：数字/字符串/元组\n",
    "# 方法1\n",
    "# spam = {'Alice': 20, 'Beth': 18, 'Cecil': 21}\n",
    "# spam['David'] = 19\n",
    "# spam['Cecil'] = 17\n",
    "# 方法2\n",
    "spam = {'Alice': 20, 'Beth': 18, 'Cecil': 21}\n",
    "spam.setdefault('David',19)\n",
    "print(spam)"
   ]
  },
  {
   "cell_type": "markdown",
   "metadata": {},
   "source": [
    "#### 23.删除字典 {‘Alice’: 20, ‘Beth’: 18, ‘Cecil’: 21} 中的Beth键后，清空该字典"
   ]
  },
  {
   "cell_type": "code",
   "execution_count": 21,
   "metadata": {},
   "outputs": [
    {
     "name": "stdout",
     "output_type": "stream",
     "text": [
      "{'Beth': 18, 'Cecil': 21}\n"
     ]
    }
   ],
   "source": [
    "# 字典的删除(pop(), popitem(),clear(),del\n",
    "spam = {'Alice': 20, 'Beth': 18, 'Cecil': 21}\n",
    "spam.pop('Alice')\n",
    "print(spam)"
   ]
  },
  {
   "cell_type": "markdown",
   "metadata": {},
   "source": [
    "#### 24. 判断 David 和 Alice 是否在字典 {‘Alice’: 20, ‘Beth’: 18, ‘Cecil’: 21} 中。"
   ]
  },
  {
   "cell_type": "code",
   "execution_count": 25,
   "metadata": {},
   "outputs": [
    {
     "name": "stdout",
     "output_type": "stream",
     "text": [
      "20\n"
     ]
    },
    {
     "ename": "KeyError",
     "evalue": "'David'",
     "output_type": "error",
     "traceback": [
      "\u001b[1;31m---------------------------------------------------------------------------\u001b[0m",
      "\u001b[1;31mKeyError\u001b[0m                                  Traceback (most recent call last)",
      "\u001b[1;32m<ipython-input-25-3f52dd29dd87>\u001b[0m in \u001b[0;36m<module>\u001b[1;34m()\u001b[0m\n\u001b[0;32m      3\u001b[0m \u001b[0mspam\u001b[0m \u001b[1;33m=\u001b[0m \u001b[1;33m{\u001b[0m\u001b[1;34m'Alice'\u001b[0m\u001b[1;33m:\u001b[0m \u001b[1;36m20\u001b[0m\u001b[1;33m,\u001b[0m \u001b[1;34m'Beth'\u001b[0m\u001b[1;33m:\u001b[0m \u001b[1;36m18\u001b[0m\u001b[1;33m,\u001b[0m \u001b[1;34m'Cecil'\u001b[0m\u001b[1;33m:\u001b[0m \u001b[1;36m21\u001b[0m\u001b[1;33m}\u001b[0m\u001b[1;33m\u001b[0m\u001b[0m\n\u001b[0;32m      4\u001b[0m \u001b[0mprint\u001b[0m\u001b[1;33m(\u001b[0m\u001b[0mspam\u001b[0m\u001b[1;33m[\u001b[0m\u001b[1;34m'Alice'\u001b[0m\u001b[1;33m]\u001b[0m\u001b[1;33m)\u001b[0m\u001b[1;33m\u001b[0m\u001b[0m\n\u001b[1;32m----> 5\u001b[1;33m \u001b[0mprint\u001b[0m\u001b[1;33m(\u001b[0m\u001b[0mspam\u001b[0m\u001b[1;33m[\u001b[0m\u001b[1;34m'David'\u001b[0m\u001b[1;33m]\u001b[0m\u001b[1;33m)\u001b[0m\u001b[1;33m\u001b[0m\u001b[0m\n\u001b[0m",
      "\u001b[1;31mKeyError\u001b[0m: 'David'"
     ]
    }
   ],
   "source": [
    "# dic[key]\n",
    "# 可以通过key来索引查询自己的元素，如果查不到，则会报错\n",
    "spam = {'Alice': 20, 'Beth': 18, 'Cecil': 21}\n",
    "print(spam['Alice'])\n",
    "print(spam['David'])"
   ]
  },
  {
   "cell_type": "markdown",
   "metadata": {},
   "source": [
    "#### 25. 遍历字典 {‘Alice’: 20, ‘Beth’: 18, ‘Cecil’: 21}，打印键值对。"
   ]
  },
  {
   "cell_type": "code",
   "execution_count": 27,
   "metadata": {},
   "outputs": [
    {
     "name": "stdout",
     "output_type": "stream",
     "text": [
      "Alice 20\n",
      "Beth 18\n",
      "Cecil 21\n"
     ]
    }
   ],
   "source": [
    "spam = {'Alice': 20, 'Beth': 18, 'Cecil': 21}\n",
    "for key,value in spam.items():\n",
    "    print (key,value)"
   ]
  },
  {
   "cell_type": "markdown",
   "metadata": {},
   "source": [
    "#### 26. 若 a = dict()，令 b = a，执行 b.update({‘x’:1})， a亦被改变。为何？如何避免？"
   ]
  },
  {
   "cell_type": "code",
   "execution_count": 37,
   "metadata": {},
   "outputs": [
    {
     "name": "stdout",
     "output_type": "stream",
     "text": [
      "{} {'x': 1}\n"
     ]
    }
   ],
   "source": [
    "# 字典的赋值，浅拷贝，深拷贝\n",
    "import copy\n",
    "a = dict()\n",
    "b = a.copy()\n",
    "b.update({'x':1})\n",
    "print(a,b)"
   ]
  },
  {
   "cell_type": "markdown",
   "metadata": {},
   "source": [
    "#### 27. 以列表 [‘A’,‘B’,‘C’,‘D’,‘E’,‘F’,‘G’,‘H’] 中的每一个元素为键，默认值都是0，创建一个字典。"
   ]
  },
  {
   "cell_type": "code",
   "execution_count": 57,
   "metadata": {},
   "outputs": [
    {
     "name": "stdout",
     "output_type": "stream",
     "text": [
      "{'A': 0, 'B': 0, 'C': 0, 'D': 0, 'E': 0}\n"
     ]
    }
   ],
   "source": [
    "new_list = ['A','B','C','D','E']\n",
    "new_dict = {}\n",
    "for i in new_list:\n",
    "    new_dict[i[0]] = 0\n",
    "    \n",
    "print(new_dict)"
   ]
  },
  {
   "cell_type": "markdown",
   "metadata": {},
   "source": [
    "#### 28. 将二维结构[['a',1],['b',2]]和(('x',3),('y',4))转变成字典"
   ]
  },
  {
   "cell_type": "code",
   "execution_count": 62,
   "metadata": {},
   "outputs": [
    {
     "name": "stdout",
     "output_type": "stream",
     "text": [
      "{'a': 1, 'b': 2} {'x': 3, 'y': 4}\n"
     ]
    }
   ],
   "source": [
    "new_list = [['a',1],['b',2]]\n",
    "new_tuple = (('x',3),('y',4))\n",
    "new_dict1 = dict(new_list)\n",
    "new_dict2 = dict(new_tuple)\n",
    "print(new_dict1,new_dict2)"
   ]
  },
  {
   "cell_type": "markdown",
   "metadata": {},
   "source": [
    "#### 29. 将元组 (1,2) 和 (3,4) 合并成一个元组。"
   ]
  },
  {
   "cell_type": "code",
   "execution_count": 70,
   "metadata": {},
   "outputs": [
    {
     "name": "stdout",
     "output_type": "stream",
     "text": [
      "(1, 2, 3, 4)\n"
     ]
    }
   ],
   "source": [
    "tuple1 = (1,2)\n",
    "tuple2 = (3,4)\n",
    "new_tuple = tuple1 + tuple2\n",
    "print(new_tuple)"
   ]
  },
  {
   "cell_type": "markdown",
   "metadata": {},
   "source": [
    "#### 30. 将空间坐标元组 (1,2,3) 的三个元素解包对应到变量 x,y,z。"
   ]
  },
  {
   "cell_type": "code",
   "execution_count": 79,
   "metadata": {},
   "outputs": [
    {
     "name": "stdout",
     "output_type": "stream",
     "text": [
      "{1: 'x', 2: 'y', 3: 'z'}\n"
     ]
    }
   ],
   "source": [
    "tuple1, tuple2 = (1,2,3),('x','y','z')\n",
    "# zip()函数用于将可迭代的对象作为参数，将对象中对应的元素打包成一个个元组，然后返回\n",
    "# 这些元组组成的列表\n",
    "new_tuple = zip(tuple1,tuple2)\n",
    "new_dict = dict(new_tuple)\n",
    "print(new_dict)"
   ]
  },
  {
   "cell_type": "markdown",
   "metadata": {},
   "source": [
    "#### 31. 返回元组 (‘Alice’,‘Beth’,‘Cecil’) 中 ‘Cecil’ 元素的索引号。"
   ]
  },
  {
   "cell_type": "code",
   "execution_count": 2,
   "metadata": {},
   "outputs": [
    {
     "data": {
      "text/plain": [
       "2"
      ]
     },
     "execution_count": 2,
     "metadata": {},
     "output_type": "execute_result"
    }
   ],
   "source": [
    "# Python 元组index()方法用于从元组中找出某个对象第一个匹配项的索引位置。\n",
    "# 如果这个对象不在元组中会报一个异常\n",
    "tup =  ('Alice','Beth','Cecil') \n",
    "tup.index('Cecil')"
   ]
  },
  {
   "cell_type": "markdown",
   "metadata": {},
   "source": [
    "#### 32. 返回元组 (2,5,3,2,4) 中元素 2 的个数"
   ]
  },
  {
   "cell_type": "code",
   "execution_count": 9,
   "metadata": {},
   "outputs": [
    {
     "name": "stdout",
     "output_type": "stream",
     "text": [
      "2\n"
     ]
    }
   ],
   "source": [
    "tup = (2,5,3,2,4)\n",
    "count = 0\n",
    "for i in tup:\n",
    "    if i == 2:\n",
    "        count += 1\n",
    "print(count)"
   ]
  },
  {
   "cell_type": "markdown",
   "metadata": {},
   "source": [
    "#### 33. 返回在元组 (2,5,3,7) 索引号为2的位置插入元素 9 之后的新元组。"
   ]
  },
  {
   "cell_type": "code",
   "execution_count": 12,
   "metadata": {},
   "outputs": [
    {
     "data": {
      "text/plain": [
       "(2, 5, 9, 3, 7)"
      ]
     },
     "execution_count": 12,
     "metadata": {},
     "output_type": "execute_result"
    }
   ],
   "source": [
    "tup = (2,5,3,7)\n",
    "tup = tup[:2] + (9,) + tup[2:]\n",
    "tup"
   ]
  },
  {
   "cell_type": "markdown",
   "metadata": {},
   "source": [
    "#### 34. 创建一个空集合，增加{'x','y','z'}三个元素"
   ]
  },
  {
   "cell_type": "code",
   "execution_count": 51,
   "metadata": {},
   "outputs": [
    {
     "name": "stdout",
     "output_type": "stream",
     "text": [
      "{'x', 'z', 'y'}\n"
     ]
    }
   ],
   "source": [
    "# set 和 dict类似，也是一组key的集合，但不存储value。\n",
    "# 由于key不能重复，所以在set中，没有重复的key\n",
    "\n",
    "# 注意：\n",
    "# 创建一个空集合必须用set()而不是{ }，{ }是用来创建一个空字典\n",
    "se = set()\n",
    "se.update('x','y','z')\n",
    "print(se)"
   ]
  },
  {
   "cell_type": "markdown",
   "metadata": {},
   "source": [
    "#### 35. 判断 ‘Cecil’ 是否在元组 (‘Alice’,‘Beth’,‘Cecil’) 中"
   ]
  },
  {
   "cell_type": "code",
   "execution_count": 38,
   "metadata": {},
   "outputs": [
    {
     "data": {
      "text/plain": [
       "2"
      ]
     },
     "execution_count": 38,
     "metadata": {},
     "output_type": "execute_result"
    }
   ],
   "source": [
    "tup = ('Alice','Beth','Cecil') \n",
    "tup.index('Cecil')\n",
    "# 用index方法判断的返回值看元素在不在元组中"
   ]
  },
  {
   "cell_type": "markdown",
   "metadata": {},
   "source": [
    "#### 36. 删除集合 {‘x’,‘y’,‘z’} 中的 ‘z’ 元素，增j加元素 ‘w’，然后清空整个集合"
   ]
  },
  {
   "cell_type": "code",
   "execution_count": 48,
   "metadata": {},
   "outputs": [
    {
     "name": "stdout",
     "output_type": "stream",
     "text": [
      "{'x', 'y'}\n",
      "{'x', 'w', 'y'}\n",
      "set()\n"
     ]
    }
   ],
   "source": [
    "# add()为集合添加元素\n",
    "# clear() 移除集合中的所以元素\n",
    "# pop() 随机移除元素\n",
    "# remove() 移除指定的元素\n",
    "\n",
    "se = {'x','y','z'}\n",
    "se.remove('z')\n",
    "print(se)\n",
    "se.add('w')\n",
    "print(se)\n",
    "se.clear()\n",
    "print(se)"
   ]
  },
  {
   "cell_type": "markdown",
   "metadata": {},
   "source": [
    "#### 37.返回集合 {‘A’,‘D’,‘B’} 中未出现在集合 {‘D’,‘E’,‘C’} 中的元素（差集）"
   ]
  },
  {
   "cell_type": "code",
   "execution_count": 52,
   "metadata": {},
   "outputs": [
    {
     "data": {
      "text/plain": [
       "{'C', 'E'}"
      ]
     },
     "execution_count": 52,
     "metadata": {},
     "output_type": "execute_result"
    }
   ],
   "source": [
    "set1 = {'A','D','B'}\n",
    "set2 = {'D','E','C'}\n",
    "set2 - set1"
   ]
  },
  {
   "cell_type": "markdown",
   "metadata": {},
   "source": [
    "#### 38.返回两个集合 {‘A’,‘D’,‘B’} 和 {‘D’,‘E’,‘C’} 的并集。"
   ]
  },
  {
   "cell_type": "code",
   "execution_count": 54,
   "metadata": {},
   "outputs": [
    {
     "data": {
      "text/plain": [
       "{'A', 'B', 'C', 'D', 'E'}"
      ]
     },
     "execution_count": 54,
     "metadata": {},
     "output_type": "execute_result"
    }
   ],
   "source": [
    "set1 = {'A','D','B'}\n",
    "set2 = {'D','E','C'}\n",
    "set1 | set2"
   ]
  },
  {
   "cell_type": "markdown",
   "metadata": {},
   "source": [
    "#### 39. 返回两个集合 {‘A’,‘D’,‘B’} 和 {‘D’,‘E’,‘C’} 的交集。"
   ]
  },
  {
   "cell_type": "code",
   "execution_count": 55,
   "metadata": {},
   "outputs": [
    {
     "data": {
      "text/plain": [
       "{'D'}"
      ]
     },
     "execution_count": 55,
     "metadata": {},
     "output_type": "execute_result"
    }
   ],
   "source": [
    "set1 = {'A','D','B'}\n",
    "set2 = {'D','E','C'}\n",
    "set1 & set2"
   ]
  },
  {
   "cell_type": "markdown",
   "metadata": {},
   "source": [
    "#### 40. 返回两个集合 {‘A’,‘D’,‘B’} 和 {‘D’,‘E’,‘C’} 未重复的元素的集合。"
   ]
  },
  {
   "cell_type": "code",
   "execution_count": 56,
   "metadata": {},
   "outputs": [
    {
     "data": {
      "text/plain": [
       "{'A', 'B', 'C', 'E'}"
      ]
     },
     "execution_count": 56,
     "metadata": {},
     "output_type": "execute_result"
    }
   ],
   "source": [
    "set1 = {'A','D','B'}\n",
    "set2 = {'D','E','C'}\n",
    "set1 ^ set2"
   ]
  },
  {
   "cell_type": "markdown",
   "metadata": {},
   "source": [
    "#### 41. 判断两个集合 {‘A’,‘D’,‘B’} 和 {‘D’,‘E’,‘C’} 是否有重复元素。"
   ]
  },
  {
   "cell_type": "code",
   "execution_count": 60,
   "metadata": {},
   "outputs": [
    {
     "name": "stdout",
     "output_type": "stream",
     "text": [
      "{'B', 'C', 'A', 'E'}\n"
     ]
    }
   ],
   "source": [
    "# symmetric_difference() 返回两个集合中不重复的元素集合\n",
    "set1 = {'A','D','B'}\n",
    "set2 = {'D','E','C'}\n",
    "new_set = set1.symmetric_difference(set2)\n",
    "print(new_set)"
   ]
  },
  {
   "cell_type": "markdown",
   "metadata": {},
   "source": [
    "#### 42. 判断集合 {‘A’,‘C’} 是否是集合 {‘D’,‘C’,‘E’,‘A’} 的子集。"
   ]
  },
  {
   "cell_type": "code",
   "execution_count": 62,
   "metadata": {},
   "outputs": [
    {
     "name": "stdout",
     "output_type": "stream",
     "text": [
      "True\n"
     ]
    }
   ],
   "source": [
    "# issubsset() 用于判断集合的所有元素是否都包含在指定集合中，如果是则返回True，否\n",
    "# 则返回False\n",
    "set1 = {'A','C'}\n",
    "set2 = {'D','C','E','A'}\n",
    "print(set1.issubset(set2))"
   ]
  },
  {
   "cell_type": "markdown",
   "metadata": {},
   "source": [
    "#### 43. 去除数组 [1,2,5,2,3,4,5,‘x’,4,‘x’] 中的重复元素。"
   ]
  },
  {
   "cell_type": "code",
   "execution_count": 87,
   "metadata": {},
   "outputs": [
    {
     "name": "stdout",
     "output_type": "stream",
     "text": [
      "[1, 2, 5, 3, 4, 'x']\n"
     ]
    }
   ],
   "source": [
    "list1 = [1,2,5,2,3,4,5,'x',4,'x']\n",
    "new_list = []\n",
    "for i in list1:\n",
    "    if i not in new_list:\n",
    "        new_list.append(i)\n",
    "print(new_list)"
   ]
  },
  {
   "cell_type": "markdown",
   "metadata": {},
   "source": [
    "#### 44. 返回字符串 ‘abCdEfg’ 的全部大写、全部小写和大下写互换形式"
   ]
  },
  {
   "cell_type": "code",
   "execution_count": 115,
   "metadata": {},
   "outputs": [
    {
     "name": "stdout",
     "output_type": "stream",
     "text": [
      "SmallNum a\n",
      "SmallNum b\n",
      "BigNum C\n",
      "SmallNum d\n",
      "BigNum E\n",
      "SmallNum f\n",
      "SmallNum g\n"
     ]
    },
    {
     "data": {
      "text/plain": [
       "'abcdefg'"
      ]
     },
     "execution_count": 115,
     "metadata": {},
     "output_type": "execute_result"
    }
   ],
   "source": [
    "# upper() 把所有字符中的小写字母转换成大写字母\n",
    "# lower() 把所有字符中的大写字母转换成小写字母\n",
    "# isupper() 识别字符串中的大写字母\n",
    "# islower() 识别字符串中的小写字母\n",
    "string = 'abCdEfg'\n",
    "BigNum = 0\n",
    "SmallNum = 0\n",
    "Num = 0\n",
    "for c in string:\n",
    "    if c.isupper():\n",
    "        print(\"BigNum \" + c)\n",
    "    elif c.islower():\n",
    "        print(\"SmallNum \" + c)\n",
    "        \n",
    "string.upper()\n",
    "string.lower()"
   ]
  },
  {
   "cell_type": "markdown",
   "metadata": {},
   "source": [
    "#### 45. 判断字符串 ‘abCdEfg’ 是否首字母大写，字母是否全部小写，字母是否全部大写。"
   ]
  },
  {
   "cell_type": "code",
   "execution_count": 122,
   "metadata": {},
   "outputs": [
    {
     "name": "stdout",
     "output_type": "stream",
     "text": [
      "False\n",
      "False\n",
      "False\n"
     ]
    }
   ],
   "source": [
    "# istitle() 判断字符串中的首字母是不是大写字母\n",
    "# isupper() 如果字符串中包含至少一个区分大小写的字符，\n",
    "# 并且所有这些(区分大小写的)字符都是大写，则返回 True，否则返回 False\n",
    "# islower() 如果字符串中包含至少一个区分大小写的字符，\n",
    "# 并且所有这些(区分大小写的)字符都是小写，则返回 True，否则返回 False\n",
    "\n",
    "string = 'abCdEfg'\n",
    "print(string.istitle())\n",
    "print(string.isupper())\n",
    "print(string.islower())"
   ]
  },
  {
   "cell_type": "markdown",
   "metadata": {},
   "source": [
    "#### 46. 返回字符串 ‘this is python’ 首字母大写以及字符串内每个单词首字母大写形式。"
   ]
  },
  {
   "cell_type": "code",
   "execution_count": 138,
   "metadata": {},
   "outputs": [
    {
     "name": "stdout",
     "output_type": "stream",
     "text": [
      "This is python\n",
      "This Is Python\n"
     ]
    },
    {
     "data": {
      "text/plain": [
       "\"\\nl = c.split(' ')\\ntemp = []\\nfor part in l:\\n    part.capitalize()\\n    temp.append(part)\\n    \\nprint (' '.join(temp))\\n\\n\""
      ]
     },
     "execution_count": 138,
     "metadata": {},
     "output_type": "execute_result"
    }
   ],
   "source": [
    "# capitalize() 方法字符串的第一个字母变成大写，其他字母变小写\n",
    "# title() 方法返回\"标题化\"的字符串,就是说所有单词都是以大写开始，其余字母均为小写(见 istitle())。\n",
    "c = 'this is python'\n",
    "print(c.capitalize())\n",
    "\n",
    "print(c.title())\n",
    "\n",
    "\"\"\"\n",
    "l = c.split(' ')\n",
    "temp = []\n",
    "for part in l:\n",
    "    part.capitalize()\n",
    "    temp.append(part)\n",
    "    \n",
    "print (' '.join(temp))\n",
    "\n",
    "\"\"\"\n"
   ]
  },
  {
   "cell_type": "markdown",
   "metadata": {},
   "source": [
    "#### 47. 判断字符串 ‘this is python’ 是否以 ‘this’ 开头，又是否以 ‘python’ 结尾。"
   ]
  },
  {
   "cell_type": "code",
   "execution_count": 148,
   "metadata": {},
   "outputs": [
    {
     "name": "stdout",
     "output_type": "stream",
     "text": [
      "True\n",
      "True\n"
     ]
    }
   ],
   "source": [
    "# 通过startwith()和endswith()方法判断是否以某个字符开头或结尾\n",
    "c = \"this is python\"\n",
    "if c.startswith('this'):\n",
    "    print(True)\n",
    "if c.endswith('python'):\n",
    "    print(True)"
   ]
  },
  {
   "cell_type": "markdown",
   "metadata": {},
   "source": [
    "#### 48. 返回字符串 ‘this is python’ 中 ‘is’ 的出现次数。"
   ]
  },
  {
   "cell_type": "code",
   "execution_count": 152,
   "metadata": {},
   "outputs": [
    {
     "name": "stdout",
     "output_type": "stream",
     "text": [
      "2\n"
     ]
    }
   ],
   "source": [
    "# count() 方法用于统计字符串里某个字符出现的次数。可选参数为在字符串搜索的开始与结束位置。\n",
    "c = \"this is python\"\n",
    "res = c.count('is')\n",
    "print(res)"
   ]
  },
  {
   "cell_type": "markdown",
   "metadata": {},
   "source": [
    "#### 49. 返回字符串 ‘this is python’ 中 ‘is’ 首次出现和最后一次出现的位置。"
   ]
  },
  {
   "cell_type": "code",
   "execution_count": 160,
   "metadata": {},
   "outputs": [
    {
     "name": "stdout",
     "output_type": "stream",
     "text": [
      "2\n",
      "5\n"
     ]
    }
   ],
   "source": [
    "# find 首次出现的索引位置\n",
    "# rfind 最后一次出现索引的位置\n",
    "\n",
    "c = \"this is python\"\n",
    "print(c.find('is')) \n",
    "print(c.rfind('is'))"
   ]
  },
  {
   "cell_type": "markdown",
   "metadata": {},
   "source": [
    "#### 50. 将字符串 ‘this is python’ 切片成3个单词。"
   ]
  },
  {
   "cell_type": "code",
   "execution_count": 161,
   "metadata": {},
   "outputs": [
    {
     "name": "stdout",
     "output_type": "stream",
     "text": [
      "['this', 'is', 'python']\n"
     ]
    }
   ],
   "source": [
    "# split()通过对指定的分隔符对字符串进行分割，\n",
    "# str.split(str='',num=string.count(str))\n",
    "# str-- 分隔符，默认认为所有的空字符，包括空格/换行/制表符\n",
    "# num -- 分割的次数，默认为-1,即分割所有\n",
    "c = \"this is python\"\n",
    "print(c.split())"
   ]
  },
  {
   "cell_type": "markdown",
   "metadata": {},
   "source": [
    "#### 51. 返回字符串 ‘blog.csdn.net/xufive/article/details/102946961’ 按路径分隔符切片的结果。"
   ]
  },
  {
   "cell_type": "code",
   "execution_count": 3,
   "metadata": {},
   "outputs": [
    {
     "name": "stdout",
     "output_type": "stream",
     "text": [
      "['blog.csdn.net', 'xufive', 'article', 'details', '102946961']\n"
     ]
    }
   ],
   "source": [
    "c = 'blog.csdn.net/xufive/article/details/102946961'\n",
    "print(c.split('/'))"
   ]
  },
  {
   "cell_type": "markdown",
   "metadata": {},
   "source": [
    "#### 52. 将字符串 ‘2.72, 5, 7, 3.14’ 以半角逗号切片后，再将各个元素转成浮点型或整形。"
   ]
  },
  {
   "cell_type": "code",
   "execution_count": 25,
   "metadata": {},
   "outputs": [
    {
     "name": "stdout",
     "output_type": "stream",
     "text": [
      "[2.72, 5.0, 7.0, 3.14]\n"
     ]
    }
   ],
   "source": [
    "# map函数的原型是map(function, iterable, …)，它的返回结果是一个列表。\n",
    "\n",
    "# 参数function传的是一个函数名，可以是python内置的，也可以是自定义的。\n",
    "# 参数iterable传的是一个可以迭代的对象，例如列表，元组，字符串这样的。\n",
    "\n",
    "# 这个函数的意思就是将function应用于iterable的每一个元素，结果以列表的形式返回。注意到没有，iterable后面还有省略号，意思就是可以传很多个iterable，如果有额外的iterable参数，并行的从这些参数中取元素，并调用function。如果一个iterable参数比另外的iterable参数要短，将以None扩展该参数元素。还是看例子来理解吧！\n",
    "c = '2.72, 5, 7, 3.14'\n",
    "L = c.split(',')\n",
    "print(list(map(float, L)))"
   ]
  },
  {
   "cell_type": "markdown",
   "metadata": {},
   "source": [
    "#### 53. 判断字符串 ‘adS12K56’ 是否完全为字母数字，是否全为数字，是否全为字母，是否全为ASCII码。"
   ]
  },
  {
   "cell_type": "code",
   "execution_count": 33,
   "metadata": {},
   "outputs": [
    {
     "name": "stdout",
     "output_type": "stream",
     "text": [
      "False\n",
      "False\n"
     ]
    },
    {
     "data": {
      "text/plain": [
       "True"
      ]
     },
     "execution_count": 33,
     "metadata": {},
     "output_type": "execute_result"
    }
   ],
   "source": [
    "# string.isdigit() 如果string只包含十进制数字则返回Ture, 否则返回False\n",
    "# string.isnumeric() 如果string中只包含数字字符，则返回True, 否则返回False\n",
    "#\n",
    "# Python的内置函数all可以检查一个可迭代对象中的所有元素是否都为True或都满足某一条键，\n",
    "#               ord可以将一个ASCII字符转换为一个整数\n",
    "c = 'adS12K56'\n",
    "print(c.isdigit())\n",
    "print(c.isnumeric())\n",
    "all(ord(c) < 128 for c in c)"
   ]
  },
  {
   "cell_type": "markdown",
   "metadata": {},
   "source": [
    "#### 54. 将字符串 ‘there is python’ 中的 ‘is’ 替换为 ‘are’。"
   ]
  },
  {
   "cell_type": "code",
   "execution_count": 34,
   "metadata": {},
   "outputs": [
    {
     "data": {
      "text/plain": [
       "'there are python'"
      ]
     },
     "execution_count": 34,
     "metadata": {},
     "output_type": "execute_result"
    }
   ],
   "source": [
    "# replace() 放法把字符串中的old(旧字符串)替换成new(新字符串)\n",
    "# str.replace(old,new[,max]),如果指定第三个参数，则替换次数不超max次\n",
    "\n",
    "c = 'there is python'\n",
    "c.replace('is','are')"
   ]
  },
  {
   "cell_type": "markdown",
   "metadata": {},
   "source": [
    "#### 55. 清除字符串 ‘\\t python \\n’ 左侧、右侧，以及左右两侧的空白字符。"
   ]
  },
  {
   "cell_type": "code",
   "execution_count": 38,
   "metadata": {},
   "outputs": [
    {
     "name": "stdout",
     "output_type": "stream",
     "text": [
      " python \n",
      "\n",
      "\t python \n",
      "python\n"
     ]
    }
   ],
   "source": [
    "# str.strip() 去除字符串两边的字符,参数为空时，默认去除ss字符串中头尾\\r, \\t, \\n, 空格等字符\n",
    "# str.lstrip() 去除字符串左边的字符\n",
    "# str.rstrip() 去除字符串右边从字符\n",
    "\n",
    "c = '\\t python \\n'\n",
    "print(c.lstrip('\\t'))\n",
    "print(c.rstrip('\\n'))\n",
    "print(c.strip())"
   ]
  },
  {
   "cell_type": "markdown",
   "metadata": {},
   "source": [
    "#### 56. 将三个全英文字符串（比如，‘ok’, ‘hello’, ‘thank you’）分行打印，实现左对齐、右对齐和居中对齐效果。"
   ]
  },
  {
   "cell_type": "code",
   "execution_count": 45,
   "metadata": {},
   "outputs": [
    {
     "name": "stdout",
     "output_type": "stream",
     "text": [
      "| ok                   |\n",
      "|          ok          |\n",
      "|                   ok |\n"
     ]
    }
   ],
   "source": [
    "print(\"|\",\"ok\".ljust(20),\"|\")\n",
    "print(\"|\",\"hello\".center(20),\"|\")\n",
    "print(\"|\",\"thank you\".rjust(20),\"|\")"
   ]
  },
  {
   "cell_type": "markdown",
   "metadata": {},
   "source": [
    "#### 57.将三个字符串（比如，‘Hello, 我是David’, ‘OK, 好’, ‘很高兴认识你’）分行打印，实现左对齐、右对齐和居中效果。"
   ]
  },
  {
   "cell_type": "code",
   "execution_count": 1,
   "metadata": {},
   "outputs": [
    {
     "name": "stdout",
     "output_type": "stream",
     "text": [
      "| Hello                |\n",
      "|       我是David        |\n",
      "|                   ok |\n"
     ]
    }
   ],
   "source": [
    "print(\"|\",\"Hello\".ljust(20),\"|\")\n",
    "print(\"|\",\"我是David\".center(20),\"|\")\n",
    "print(\"|\",\"ok\".rjust(20),\"|\")"
   ]
  },
  {
   "cell_type": "markdown",
   "metadata": {},
   "source": [
    "#### 58. 将三个字符串 ‘15’, ‘127’, ‘65535’ 左侧补0成同样长度。"
   ]
  },
  {
   "cell_type": "code",
   "execution_count": 5,
   "metadata": {},
   "outputs": [
    {
     "name": "stdout",
     "output_type": "stream",
     "text": [
      "00015\n",
      "00127\n"
     ]
    }
   ],
   "source": [
    "# str.zfill()方法用来给字符串前面补0\n",
    "str1,str2 = \"15\",\"127\"\n",
    "print(str1.zfill(5))\n",
    "print(str2.zfill(5))"
   ]
  },
  {
   "cell_type": "markdown",
   "metadata": {},
   "source": [
    "#### 59. 提取url字符串‘https://blog.csdn.net/xufive’中的协议名"
   ]
  },
  {
   "cell_type": "code",
   "execution_count": 16,
   "metadata": {},
   "outputs": [
    {
     "name": "stdout",
     "output_type": "stream",
     "text": [
      "https://blog.csdn.net\n"
     ]
    }
   ],
   "source": [
    "#os.path.basename(path)： 返回文件名\n",
    "#os.path.dirname(path)： 返回文件路径\n",
    "import os\n",
    "url = 'https://blog.csdn.net/xufive'\n",
    "name = os.path.dirname(url)\n",
    "print(name)"
   ]
  },
  {
   "cell_type": "markdown",
   "metadata": {},
   "source": [
    "#### 60. 将列表['a','b','c']中各个元素用‘|’链接成一个字符串"
   ]
  },
  {
   "cell_type": "code",
   "execution_count": 26,
   "metadata": {},
   "outputs": [
    {
     "name": "stdout",
     "output_type": "stream",
     "text": [
      "a|b|c\n"
     ]
    },
    {
     "data": {
      "text/plain": [
       "str"
      ]
     },
     "execution_count": 26,
     "metadata": {},
     "output_type": "execute_result"
    }
   ],
   "source": [
    "#str.join(sequence) 方法用于将序列中的元素以指定的字符串链接成一个新字符串\n",
    "list1 = ['a','b','c']\n",
    "str1 = '|'.join(list1)\n",
    "print(str1)\n",
    "type(str1)"
   ]
  },
  {
   "cell_type": "markdown",
   "metadata": {},
   "source": [
    "#### 61. 将字符串 ‘abc’ 相邻的两个字母之间加上半角逗号，生成新的字符串。"
   ]
  },
  {
   "cell_type": "code",
   "execution_count": 27,
   "metadata": {},
   "outputs": [
    {
     "name": "stdout",
     "output_type": "stream",
     "text": [
      "a,b,c\n"
     ]
    },
    {
     "data": {
      "text/plain": [
       "str"
      ]
     },
     "execution_count": 27,
     "metadata": {},
     "output_type": "execute_result"
    }
   ],
   "source": [
    "string = 'abc'\n",
    "NewString = ','.join(string)\n",
    "print(NewString)\n",
    "type(NewString)"
   ]
  },
  {
   "cell_type": "markdown",
   "metadata": {},
   "source": [
    "#### 62. 从键盘输入手机号码，输出形如 ‘Mobile: 186 6677 7788’ 的字符串。"
   ]
  },
  {
   "cell_type": "code",
   "execution_count": 38,
   "metadata": {},
   "outputs": [
    {
     "name": "stdout",
     "output_type": "stream",
     "text": [
      "Mobile:12345678\n",
      "Mobile: 123 4567 8\n"
     ]
    }
   ],
   "source": [
    "# a = ['Mobile:','186','6677','7788']\n",
    "# \"{0[0]} {0[1]} {0[2]} {0[3]}\".format(a)\n",
    "\n",
    "num = input(\"Mobile:\")\n",
    "print(\"Mobile: %s %s %s\"%(num[:3],num[3:7],num[7:]))"
   ]
  },
  {
   "cell_type": "markdown",
   "metadata": {},
   "source": [
    "#### 63.从键盘输入年月日时分秒，输出形如 ‘2019-05-01 12:00:00’ 的字符串。"
   ]
  },
  {
   "cell_type": "code",
   "execution_count": 44,
   "metadata": {},
   "outputs": [
    {
     "name": "stdout",
     "output_type": "stream",
     "text": [
      "从键盘输入年月日时分秒,中间以空格分开：2019 12 13 12 1 1\n",
      "2019-12-13 12-01-01\n"
     ]
    }
   ],
   "source": [
    "df = input('从键盘输入年月日时分秒,中间以空格分开：')\n",
    "Y, M, D, h, m, s = df.split()\n",
    "Y, M, D, h, m, s  = int(Y), int(M), int(D), int(h), int(m), int(s)\n",
    "print('%04d-%02d-%02d %02d-%02d-%02d' % (Y, M, D, h, m, s))"
   ]
  },
  {
   "cell_type": "markdown",
   "metadata": {},
   "source": [
    "#### 64. 给定两个浮点数 3.1415926 和 2.7182818，格式化输出字符串 ‘pi = 3.1416, e = 2.7183’。"
   ]
  },
  {
   "cell_type": "code",
   "execution_count": 48,
   "metadata": {},
   "outputs": [
    {
     "name": "stdout",
     "output_type": "stream",
     "text": [
      "pi = 3.1416, e = 2.7183\n"
     ]
    }
   ],
   "source": [
    "f1 = 3.1415926\n",
    "f2 = 2.7182818\n",
    "print('pi = %0.4f, e = %0.4f' % (f1, f2))"
   ]
  },
  {
   "cell_type": "markdown",
   "metadata": {},
   "source": [
    "#### 65. 将 0.00774592 和 356800000 格式化输出为科学计数法字符串。"
   ]
  },
  {
   "cell_type": "code",
   "execution_count": 50,
   "metadata": {},
   "outputs": [
    {
     "name": "stdout",
     "output_type": "stream",
     "text": [
      "7.745920E-03 3.568000E+08\n"
     ]
    }
   ],
   "source": [
    "e1 , e2 = 0.00774592, 356800000\n",
    "print('%E %E' % (e1, e2))"
   ]
  },
  {
   "cell_type": "markdown",
   "metadata": {},
   "source": [
    "#### 66. 将十进制整数 240 格式化为八进制和十六进制的字符串。"
   ]
  },
  {
   "cell_type": "code",
   "execution_count": 54,
   "metadata": {},
   "outputs": [
    {
     "name": "stdout",
     "output_type": "stream",
     "text": [
      "八进制: 0o360\n",
      "十六进制: 0xf0\n"
     ]
    }
   ],
   "source": [
    "print(\"八进制:\",str(oct(240)))\n",
    "print(\"十六进制:\",str(hex(240)))"
   ]
  },
  {
   "cell_type": "markdown",
   "metadata": {},
   "source": [
    "#### 67. 将十进制整数 240 转为二进制、八进制、十六进制的字符串。"
   ]
  },
  {
   "cell_type": "code",
   "execution_count": 56,
   "metadata": {},
   "outputs": [
    {
     "name": "stdout",
     "output_type": "stream",
     "text": [
      "二进制: 0b11110000\n",
      "八进制: 0o360\n",
      "十六进制: 0xf0\n"
     ]
    }
   ],
   "source": [
    "print(\"二进制:\",str(bin(240)))\n",
    "print(\"八进制:\",str(oct(240)))\n",
    "print(\"十六进制:\",str(hex(240)))"
   ]
  },
  {
   "cell_type": "markdown",
   "metadata": {},
   "source": [
    "#### 68.将字符串 ‘10100’ 按照二进制、八进制、十进制、十六进制转为整数。"
   ]
  },
  {
   "cell_type": "code",
   "execution_count": 72,
   "metadata": {},
   "outputs": [
    {
     "name": "stdout",
     "output_type": "stream",
     "text": [
      "20\n",
      "4160\n",
      "10100\n",
      "65792\n"
     ]
    }
   ],
   "source": [
    "strnum = '10100'\n",
    "# print(\"二进制:\",int(strnum,2))\n",
    "# print(\"八进制:\",int(strnum,8))\n",
    "# print(\"十进制:\",int(strnum))\n",
    "# print(\"十六进制:\",int(strnum,16))\n",
    "\n",
    "print(int('10100',base=2))\n",
    "print(int('10100',base=8))\n",
    "print(int('10100',base=10))\n",
    "print(int('10100',base=16))"
   ]
  },
  {
   "cell_type": "markdown",
   "metadata": {},
   "source": [
    "#### 69. 求二进制整数1010、八进制整数65、十进制整数52、十六进制整数b4的和。"
   ]
  },
  {
   "cell_type": "code",
   "execution_count": 69,
   "metadata": {},
   "outputs": [
    {
     "name": "stdout",
     "output_type": "stream",
     "text": [
      "295\n"
     ]
    }
   ],
   "source": [
    "sumall = 0b1010 + 0o65 + 52 + 0xb4\n",
    "print(sumall)"
   ]
  },
  {
   "cell_type": "markdown",
   "metadata": {},
   "source": [
    "#### 70. 将列表 [0,1,2,3.14,‘x’,None,’’,list(),{5}] 中各个元素转为布尔型。"
   ]
  },
  {
   "cell_type": "code",
   "execution_count": 71,
   "metadata": {},
   "outputs": [
    {
     "name": "stdout",
     "output_type": "stream",
     "text": [
      "[False, True, True, True, True, False, True, False, True]\n"
     ]
    }
   ],
   "source": [
    "lists = [0,1,2,3.14,'x',None,' ',list(),{5}]\n",
    "bool_lists = [bool(item) for item in lists]\n",
    "print(bool_lists)"
   ]
  },
  {
   "cell_type": "markdown",
   "metadata": {},
   "source": [
    "#### 71. 返回字符 ‘a’ 和 ‘A’ 的ASCII编码值。"
   ]
  },
  {
   "cell_type": "code",
   "execution_count": 2,
   "metadata": {},
   "outputs": [
    {
     "name": "stdout",
     "output_type": "stream",
     "text": [
      "a:ASCII: 97\n",
      "a:ASCII: 65\n"
     ]
    }
   ],
   "source": [
    "print('a:ASCII:',ord('a'))\n",
    "print('a:ASCII:',ord('A'))"
   ]
  },
  {
   "cell_type": "markdown",
   "metadata": {},
   "source": [
    "#### 72. 返回ASCII编码值为 57 和 122 的字符。"
   ]
  },
  {
   "cell_type": "code",
   "execution_count": 4,
   "metadata": {},
   "outputs": [
    {
     "name": "stdout",
     "output_type": "stream",
     "text": [
      "57:char: 9\n",
      "122:char: z\n"
     ]
    }
   ],
   "source": [
    "print('57:char:',chr(57))\n",
    "print('122:char:',chr(122))"
   ]
  },
  {
   "cell_type": "markdown",
   "metadata": {},
   "source": [
    "#### 73. 将二维列表 [[0.468,0.975,0.446],[0.718,0.826,0.359]] 写成名为 csv_data 的 csv 格式的文件，并尝试用 excel 打开它。"
   ]
  },
  {
   "cell_type": "code",
   "execution_count": 23,
   "metadata": {},
   "outputs": [],
   "source": [
    "import pandas as pd\n",
    "array = [[0.468,0.975,0.446],[0.718,0.826,0.359]]\n",
    "\n",
    "df = pd.DataFrame(array)\n",
    "df.to_csv('csv_data.csv', index = False, header = False)"
   ]
  },
  {
   "cell_type": "markdown",
   "metadata": {},
   "source": [
    "#### 74. 从 csv_data.csv 文件中读出二维列表。"
   ]
  },
  {
   "cell_type": "code",
   "execution_count": 24,
   "metadata": {},
   "outputs": [
    {
     "data": {
      "text/html": [
       "<div>\n",
       "<style scoped>\n",
       "    .dataframe tbody tr th:only-of-type {\n",
       "        vertical-align: middle;\n",
       "    }\n",
       "\n",
       "    .dataframe tbody tr th {\n",
       "        vertical-align: top;\n",
       "    }\n",
       "\n",
       "    .dataframe thead th {\n",
       "        text-align: right;\n",
       "    }\n",
       "</style>\n",
       "<table border=\"1\" class=\"dataframe\">\n",
       "  <thead>\n",
       "    <tr style=\"text-align: right;\">\n",
       "      <th></th>\n",
       "      <th>0</th>\n",
       "      <th>1</th>\n",
       "      <th>2</th>\n",
       "    </tr>\n",
       "  </thead>\n",
       "  <tbody>\n",
       "    <tr>\n",
       "      <th>0</th>\n",
       "      <td>0.468</td>\n",
       "      <td>0.975</td>\n",
       "      <td>0.446</td>\n",
       "    </tr>\n",
       "    <tr>\n",
       "      <th>1</th>\n",
       "      <td>0.718</td>\n",
       "      <td>0.826</td>\n",
       "      <td>0.359</td>\n",
       "    </tr>\n",
       "  </tbody>\n",
       "</table>\n",
       "</div>"
      ],
      "text/plain": [
       "       0      1      2\n",
       "0  0.468  0.975  0.446\n",
       "1  0.718  0.826  0.359"
      ]
     },
     "execution_count": 24,
     "metadata": {},
     "output_type": "execute_result"
    }
   ],
   "source": [
    "import pandas as pd\n",
    "df = pd.read_csv('csv_data.csv',header = None, sep = ',')\n",
    "df"
   ]
  },
  {
   "cell_type": "markdown",
   "metadata": {},
   "source": [
    "#### 75. 向 csv_data.csv 文件追加二维列表 [[1.468,1.975,1.446],[1.718,1.826,1.359]]，然后读出所有数据。"
   ]
  },
  {
   "cell_type": "code",
   "execution_count": 25,
   "metadata": {},
   "outputs": [
    {
     "data": {
      "text/html": [
       "<div>\n",
       "<style scoped>\n",
       "    .dataframe tbody tr th:only-of-type {\n",
       "        vertical-align: middle;\n",
       "    }\n",
       "\n",
       "    .dataframe tbody tr th {\n",
       "        vertical-align: top;\n",
       "    }\n",
       "\n",
       "    .dataframe thead th {\n",
       "        text-align: right;\n",
       "    }\n",
       "</style>\n",
       "<table border=\"1\" class=\"dataframe\">\n",
       "  <thead>\n",
       "    <tr style=\"text-align: right;\">\n",
       "      <th></th>\n",
       "      <th>0</th>\n",
       "      <th>1</th>\n",
       "      <th>2</th>\n",
       "    </tr>\n",
       "  </thead>\n",
       "  <tbody>\n",
       "    <tr>\n",
       "      <th>0</th>\n",
       "      <td>1.468</td>\n",
       "      <td>1.975</td>\n",
       "      <td>1.446</td>\n",
       "    </tr>\n",
       "    <tr>\n",
       "      <th>1</th>\n",
       "      <td>1.718</td>\n",
       "      <td>1.826</td>\n",
       "      <td>1.359</td>\n",
       "    </tr>\n",
       "  </tbody>\n",
       "</table>\n",
       "</div>"
      ],
      "text/plain": [
       "       0      1      2\n",
       "0  1.468  1.975  1.446\n",
       "1  1.718  1.826  1.359"
      ]
     },
     "execution_count": 25,
     "metadata": {},
     "output_type": "execute_result"
    }
   ],
   "source": [
    "import pandas as pd\n",
    "array = [[1.468,1.975,1.446],[1.718,1.826,1.359]]\n",
    "\n",
    "df = pd.DataFrame(array)\n",
    "df.to_csv('csv_data.csv', mode = 'a',index = False , header = False)\n",
    "df"
   ]
  },
  {
   "cell_type": "markdown",
   "metadata": {},
   "source": [
    "#### 76. 交换变量 x 和 y 的值。"
   ]
  },
  {
   "cell_type": "code",
   "execution_count": 27,
   "metadata": {},
   "outputs": [],
   "source": [
    "x, y = 10, 0\n",
    "x, y = y, x"
   ]
  },
  {
   "cell_type": "markdown",
   "metadata": {},
   "source": [
    "#### 77. 判断给定的参数 x 是否是整形。"
   ]
  },
  {
   "cell_type": "code",
   "execution_count": 33,
   "metadata": {},
   "outputs": [
    {
     "data": {
      "text/plain": [
       "int"
      ]
     },
     "execution_count": 33,
     "metadata": {},
     "output_type": "execute_result"
    }
   ],
   "source": [
    "x = 10\n",
    "type(a)"
   ]
  },
  {
   "cell_type": "markdown",
   "metadata": {},
   "source": [
    "#### 78. 判断给定的参数 x 是否为列表或元组。"
   ]
  },
  {
   "cell_type": "code",
   "execution_count": 36,
   "metadata": {},
   "outputs": [
    {
     "name": "stdout",
     "output_type": "stream",
     "text": [
      "True\n",
      "True\n"
     ]
    }
   ],
   "source": [
    "# isinstance()函数来判断一个对象是否是一个已知的类型，类似type\n",
    "x = [1,2,3]\n",
    "print(isinstance(x,list))\n",
    "x = (1,2,3)\n",
    "print(isinstance(x,tuple))"
   ]
  },
  {
   "cell_type": "markdown",
   "metadata": {},
   "source": [
    "#### 79. 判断 ‘https://blog.csdn.net’ 是否以 ‘http://’ 或 ‘https://’ 开头。若是，则返回 ‘http’ 或 ‘https’；否则，返回None。"
   ]
  },
  {
   "cell_type": "code",
   "execution_count": 49,
   "metadata": {},
   "outputs": [
    {
     "name": "stdout",
     "output_type": "stream",
     "text": [
      "https\n"
     ]
    }
   ],
   "source": [
    "# startswith()方法\n",
    "# str.startswith(str, beg=0, end=len(string))\n",
    "url = 'https://blog.csdn.net'\n",
    "if str.startswith(url,'https://') or str.startswith(url,'http://'):\n",
    "    print(url.split(':')[0])\n",
    "else:\n",
    "    print(None)"
   ]
  },
  {
   "cell_type": "markdown",
   "metadata": {},
   "source": [
    "#### 80. 断\"https://blog.csdn.net\"是否以\".net\"或者\".com\"结尾若是返回\".net\"或者\".com\",若否返回'None'"
   ]
  },
  {
   "cell_type": "code",
   "execution_count": 58,
   "metadata": {},
   "outputs": [
    {
     "name": "stdout",
     "output_type": "stream",
     "text": [
      ".net\n"
     ]
    }
   ],
   "source": [
    "# endswitch()方法\n",
    "# str.endswith(suf[,start[,end]])\n",
    "url = 'https://blog.csdn.net'\n",
    "if str.endswith(url,'.com') or str.endswith(url,'.net'):\n",
    "    print('.' + url.split('.')[2])\n",
    "else:\n",
    "    print(None)"
   ]
  },
  {
   "cell_type": "markdown",
   "metadata": {},
   "source": [
    "#### 81. 将列表 [3,‘a’,5.2,4,{},9,[]] 中 大于3的整数或浮点数置为1，其余置为0。"
   ]
  },
  {
   "cell_type": "code",
   "execution_count": 60,
   "metadata": {},
   "outputs": [
    {
     "name": "stdout",
     "output_type": "stream",
     "text": [
      "[0, 0, 1, 1, 0, 1, 0]\n"
     ]
    }
   ],
   "source": [
    "array = [3,'a',5.2,4,{},9,[]] \n",
    "list1 = [1 if isinstance(item,(int,float)) and item > 3 else 0 for item in array]\n",
    "print(list1)"
   ]
  },
  {
   "cell_type": "markdown",
   "metadata": {},
   "source": [
    "#### a,b 是两个数字，返回其中较小者或最大者。"
   ]
  },
  {
   "cell_type": "code",
   "execution_count": 63,
   "metadata": {},
   "outputs": [
    {
     "name": "stdout",
     "output_type": "stream",
     "text": [
      "22\n"
     ]
    }
   ],
   "source": [
    "def compare(num1,num2) -> int:\n",
    "    if num1 > num2:\n",
    "        return num1\n",
    "    else:\n",
    "        return num2\n",
    "x = compare(1,22)\n",
    "print(x)"
   ]
  },
  {
   "cell_type": "markdown",
   "metadata": {},
   "source": [
    "#### 83.找到列表 [8,5,2,4,3,6,5,5,1,4,5] 中出现最频繁的数字以及出现的次数。"
   ]
  },
  {
   "cell_type": "code",
   "execution_count": 72,
   "metadata": {},
   "outputs": [
    {
     "name": "stdout",
     "output_type": "stream",
     "text": [
      "出现频繁的数字： 5\n",
      "出现的次数： 4\n"
     ]
    }
   ],
   "source": [
    "# max()\n",
    "# count() 统计字符串里某个字符出现的次数，\n",
    "array = [8,5,2,4,3,6,5,5,1,4,5]\n",
    "num = max(set(array),key=array.count)\n",
    "\n",
    "print('出现频繁的数字：',num)\n",
    "print('出现的次数：',array.count(num))"
   ]
  },
  {
   "cell_type": "markdown",
   "metadata": {},
   "source": [
    "#### 84. 将二维列表 [[1], [‘a’,‘b’], [2.3, 4.5, 6.7]] 转为 一维列表。"
   ]
  },
  {
   "cell_type": "code",
   "execution_count": 74,
   "metadata": {},
   "outputs": [
    {
     "name": "stdout",
     "output_type": "stream",
     "text": [
      "[1, 'a', 'b', 2.3, 4.5, 6.7]\n"
     ]
    }
   ],
   "source": [
    "from itertools import chain\n",
    "l = [[1], ['a','b'], [2.3, 4.5, 6.7]]\n",
    "l2 = list(chain.from_iterable(l))\n",
    "print(l2)"
   ]
  },
  {
   "cell_type": "markdown",
   "metadata": {},
   "source": [
    "#### 85.将等长的键列表和值列表转为字典"
   ]
  },
  {
   "cell_type": "code",
   "execution_count": 76,
   "metadata": {},
   "outputs": [
    {
     "name": "stdout",
     "output_type": "stream",
     "text": [
      "{'a': 1, 'b': 2, 'c': 3, 'd': 4}\n"
     ]
    }
   ],
   "source": [
    "list1 = ['a','b','c','d']\n",
    "list2 = [1,2,3,4]\n",
    "print(dict(zip(list1,list2)))"
   ]
  },
  {
   "cell_type": "markdown",
   "metadata": {},
   "source": [
    "#### 86.使用链状比较操作符重写逻辑表达式a>10 and a<20"
   ]
  },
  {
   "cell_type": "code",
   "execution_count": 85,
   "metadata": {},
   "outputs": [],
   "source": [
    "def compare(a)->int:\n",
    "    if 10 < a < 20:\n",
    "        print(a)\n",
    "    else:\n",
    "        print(None)"
   ]
  },
  {
   "cell_type": "markdown",
   "metadata": {},
   "source": [
    "#### 87. 写一个函数，以0.1秒的间隔不换行打印30次由函数参数传入的字符，实现类似打字机的效果。"
   ]
  },
  {
   "cell_type": "code",
   "execution_count": 88,
   "metadata": {},
   "outputs": [
    {
     "name": "stdout",
     "output_type": "stream",
     "text": [
      "* * * * * * * * * * * * * * * * * * * * * * * * * * * * * * "
     ]
    }
   ],
   "source": [
    "import time\n",
    "\n",
    "def Printer_time(a,n,delay):\n",
    "    for i in range(n):\n",
    "        print(a,end=' ')\n",
    "        time.sleep(delay)\n",
    "        \n",
    "Printer_time('*',30,0.1)"
   ]
  },
  {
   "cell_type": "markdown",
   "metadata": {},
   "source": [
    "#### 88.数字列表求和。"
   ]
  },
  {
   "cell_type": "code",
   "execution_count": 93,
   "metadata": {},
   "outputs": [
    {
     "name": "stdout",
     "output_type": "stream",
     "text": [
      "45\n"
     ]
    }
   ],
   "source": [
    "a = [i for i in range(10)]\n",
    "print(sum(a))"
   ]
  },
  {
   "cell_type": "markdown",
   "metadata": {},
   "source": [
    "#### 89. 返回数字列表中的最大值和最小值"
   ]
  },
  {
   "cell_type": "code",
   "execution_count": 94,
   "metadata": {},
   "outputs": [
    {
     "name": "stdout",
     "output_type": "stream",
     "text": [
      "9\n",
      "0\n"
     ]
    }
   ],
   "source": [
    "num = [i for i in range(10)]\n",
    "print(max(num))\n",
    "print(min(num))"
   ]
  },
  {
   "cell_type": "markdown",
   "metadata": {},
   "source": [
    "#### 90. 计算2的3次方和8的立方根"
   ]
  },
  {
   "cell_type": "code",
   "execution_count": 96,
   "metadata": {},
   "outputs": [],
   "source": [
    "# pow() 方法返回x的y次方的值\n",
    "\n",
    "n1 = pow(2,3)\n",
    "n2 = pow(8,1/3)"
   ]
  },
  {
   "cell_type": "markdown",
   "metadata": {},
   "source": [
    "#### 91. 对3.1415926四舍五入，保留小数点后5位"
   ]
  },
  {
   "cell_type": "code",
   "execution_count": 100,
   "metadata": {},
   "outputs": [
    {
     "name": "stdout",
     "output_type": "stream",
     "text": [
      "3.14159\n"
     ]
    }
   ],
   "source": [
    "# round() 方法返回浮点数x的四舍五入的值\n",
    "# 坑 https://www.runoob.com/w3cnote/python-round-func-note.html\n",
    "print(round(3.1415926,5))"
   ]
  },
  {
   "cell_type": "markdown",
   "metadata": {},
   "source": [
    "#### 92.判断两个对象是在内存中是否是同一个。"
   ]
  },
  {
   "cell_type": "code",
   "execution_count": 103,
   "metadata": {},
   "outputs": [
    {
     "name": "stdout",
     "output_type": "stream",
     "text": [
      "2198067499272 2198067499272\n"
     ]
    }
   ],
   "source": [
    "# 函数用于获取对象内存地址\n",
    "\n",
    "a = [1,2,3]\n",
    "b = a\n",
    "print(id(a),id(b))"
   ]
  },
  {
   "cell_type": "markdown",
   "metadata": {},
   "source": [
    "#### 93. 返回给定对象的属性和方法"
   ]
  },
  {
   "cell_type": "markdown",
   "metadata": {},
   "source": [
    "?"
   ]
  },
  {
   "cell_type": "markdown",
   "metadata": {},
   "source": [
    "#### 94. 计算字符串表达式的'(2+3)*5'的值"
   ]
  },
  {
   "cell_type": "code",
   "execution_count": 106,
   "metadata": {},
   "outputs": [
    {
     "name": "stdout",
     "output_type": "stream",
     "text": [
      "25\n"
     ]
    }
   ],
   "source": [
    "# eval()函数用来执行一个字符串表达式，并返回表达式的值\n",
    "\n",
    "count = eval('(2+3)*5')\n",
    "print(count)"
   ]
  },
  {
   "cell_type": "markdown",
   "metadata": {},
   "source": [
    "#### 95. 实现字符'x = {\"name\":\"Gettar\",\"age\":18,\"sex\":\"female\"}'串包含的代码功能"
   ]
  },
  {
   "cell_type": "code",
   "execution_count": 112,
   "metadata": {},
   "outputs": [],
   "source": [
    "# exec 执行储存在字符串或文件中的Python语句，\n",
    "exec('x = {\"name\":\"Gettar\",\"age\":18,\"sex\":\"female\"}')"
   ]
  },
  {
   "cell_type": "markdown",
   "metadata": {},
   "source": [
    "#### 96. 使用map函数求列表中每个元素的立方根"
   ]
  },
  {
   "cell_type": "code",
   "execution_count": 126,
   "metadata": {},
   "outputs": [
    {
     "name": "stdout",
     "output_type": "stream",
     "text": [
      "[1.2599210498948732, 1.4422495703074083, 1.5874010519681994, 1.7099759466766968]\n"
     ]
    }
   ],
   "source": [
    "# map()会根据提供的函数对指定序列做映射\n",
    "# map(function, iterable)\n",
    "\"\"\"\n",
    " 网上答案\n",
    "\"\"\"\n",
    "map_root = [item for item in map(lambda x : pow(x, 1/3), [2, 3, 4, 5])]\n",
    "print(map_root)"
   ]
  },
  {
   "cell_type": "markdown",
   "metadata": {},
   "source": [
    "#### 97. 使用sys.stdin.readline()写一个和input函数功能完全相同的函数"
   ]
  },
  {
   "cell_type": "code",
   "execution_count": 132,
   "metadata": {},
   "outputs": [
    {
     "name": "stdout",
     "output_type": "stream",
     "text": [
      "\n"
     ]
    }
   ],
   "source": [
    "import sys \n",
    "c = sys.stdin.readline().strip('\\n')\n",
    "print(c)"
   ]
  },
  {
   "cell_type": "code",
   "execution_count": null,
   "metadata": {},
   "outputs": [],
   "source": []
  },
  {
   "cell_type": "code",
   "execution_count": null,
   "metadata": {},
   "outputs": [],
   "source": []
  },
  {
   "cell_type": "code",
   "execution_count": null,
   "metadata": {},
   "outputs": [],
   "source": []
  },
  {
   "cell_type": "code",
   "execution_count": null,
   "metadata": {},
   "outputs": [],
   "source": []
  }
 ],
 "metadata": {
  "kernelspec": {
   "display_name": "Python 3",
   "language": "python",
   "name": "python3"
  },
  "language_info": {
   "codemirror_mode": {
    "name": "ipython",
    "version": 3
   },
   "file_extension": ".py",
   "mimetype": "text/x-python",
   "name": "python",
   "nbconvert_exporter": "python",
   "pygments_lexer": "ipython3",
   "version": "3.7.0"
  }
 },
 "nbformat": 4,
 "nbformat_minor": 2
}
