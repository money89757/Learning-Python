{
 "cells": [
  {
   "cell_type": "markdown",
   "metadata": {},
   "source": [
    "# python 语法练习"
   ]
  },
  {
   "cell_type": "markdown",
   "metadata": {},
   "source": [
    "##### 1. 将元组（1，2，3）和集合{4，5，6}合并成一个列表"
   ]
  },
  {
   "cell_type": "code",
   "execution_count": 4,
   "metadata": {},
   "outputs": [
    {
     "name": "stdout",
     "output_type": "stream",
     "text": [
      "[1, 2, 3, 4, 5, 6]\n"
     ]
    }
   ],
   "source": [
    "tup = (1,2,3)\n",
    "se = {4,5,6}\n",
    "list1 = list(tup)+list(se)\n",
    "print(list1)"
   ]
  },
  {
   "cell_type": "markdown",
   "metadata": {},
   "source": [
    "##### 2.在列表[1,2,3,4,5,6] 首尾添加整型元素7和0 "
   ]
  },
  {
   "cell_type": "code",
   "execution_count": 6,
   "metadata": {},
   "outputs": [
    {
     "name": "stdout",
     "output_type": "stream",
     "text": [
      "[7, 1, 2, 3, 4, 5, 6, 0]\n"
     ]
    }
   ],
   "source": [
    "list2 = [1, 2, 3, 4, 5, 6]\n",
    "list2.insert(0,7)\n",
    "list2.append(0)\n",
    "print(list2)"
   ]
  },
  {
   "cell_type": "markdown",
   "metadata": {},
   "source": [
    "##### 3.反转列表[0,1,2,3,4,5,6,7]"
   ]
  },
  {
   "cell_type": "code",
   "execution_count": 8,
   "metadata": {},
   "outputs": [
    {
     "name": "stdout",
     "output_type": "stream",
     "text": [
      "[7, 6, 5, 4, 3, 2, 1, 0]\n"
     ]
    }
   ],
   "source": [
    "list3 = [0, 1, 2, 3, 4, 5, 6, 7]\n",
    "list3.reverse()\n",
    "print(list3)"
   ]
  },
  {
   "cell_type": "markdown",
   "metadata": {},
   "source": [
    "##### 4. 分别统计列表[True, False, 0, 1, 2]中的Ture, False, 0, 1, 2的元素个数，看有什么发现"
   ]
  },
  {
   "cell_type": "code",
   "execution_count": 21,
   "metadata": {},
   "outputs": [
    {
     "name": "stdout",
     "output_type": "stream",
     "text": [
      "2\n",
      "2\n",
      "2\n",
      "2\n",
      "1\n"
     ]
    }
   ],
   "source": [
    "list4 = [True, False, 0, 1, 2]\n",
    " # python中把true 映射为1\n",
    "print(list4.count(True)) \n",
    "# python中把False 映射为0\n",
    "print(list4.count(False))\n",
    "print(list4.count(0))\n",
    "print(list4.count(1))\n",
    "print(list4.count(2))"
   ]
  },
  {
   "cell_type": "markdown",
   "metadata": {},
   "source": [
    "##### 5. 从列表[True, 1, 0 ,'x',None, 'x', False, 2, True]删除元素'x'"
   ]
  },
  {
   "cell_type": "code",
   "execution_count": 30,
   "metadata": {},
   "outputs": [
    {
     "name": "stdout",
     "output_type": "stream",
     "text": [
      "[True, 1, 0, None, 'x', False, 2, True]\n"
     ]
    }
   ],
   "source": [
    "list5 = [True, 1, 0 ,'x',None, 'x', False, 2, True]\n",
    "# list.remove(a)会删除列表中第一个与之相匹配的数\n",
    "list5.remove('x')\n",
    "print(list5)"
   ]
  },
  {
   "cell_type": "markdown",
   "metadata": {},
   "source": [
    "##### 6. 反转列表 [0,1,2,3,4,5,6,7] 后给出中元素 5 的索引号。"
   ]
  },
  {
   "cell_type": "code",
   "execution_count": 38,
   "metadata": {},
   "outputs": [
    {
     "data": {
      "text/plain": [
       "2"
      ]
     },
     "execution_count": 38,
     "metadata": {},
     "output_type": "execute_result"
    }
   ],
   "source": [
    "list6 = [0, 1, 2, 3, 4, 5, 6, 7]\n",
    "list6.reverse()\n",
    "list6.index(5)"
   ]
  },
  {
   "cell_type": "markdown",
   "metadata": {},
   "source": [
    "##### 7. 从列表 [True,1,0,‘x’,None,‘x’,False,2,True] 中删除索引号为4的元素"
   ]
  },
  {
   "cell_type": "code",
   "execution_count": 42,
   "metadata": {},
   "outputs": [
    {
     "name": "stdout",
     "output_type": "stream",
     "text": [
      "[True, 1, 0, 'x', 'x', False, 2, True]\n"
     ]
    }
   ],
   "source": [
    "list7 = [True, 1,0,'x',None,'x',False,2,True]\n",
    "list7.remove(None)\n",
    "print(list7)"
   ]
  },
  {
   "cell_type": "markdown",
   "metadata": {},
   "source": [
    "##### 8. 删除列表中索引号为奇数（或偶数）的元素"
   ]
  },
  {
   "cell_type": "code",
   "execution_count": 45,
   "metadata": {},
   "outputs": [
    {
     "name": "stdout",
     "output_type": "stream",
     "text": [
      "[2, 3, 4, 5, 6, 7, 8]\n",
      "[2, 4, 5, 6, 7, 8]\n",
      "[2, 4, 6, 7, 8]\n",
      "[2, 4, 6, 8]\n"
     ]
    }
   ],
   "source": [
    "list8 = [1, 2, 3, 4, 5, 6, 7, 8]\n",
    "for i in list8:\n",
    "    if i % 2 != 0:\n",
    "        list8.remove(i)\n",
    "    print(list8)"
   ]
  },
  {
   "cell_type": "markdown",
   "metadata": {},
   "source": [
    "##### 9. 清空列表中的所有元素。"
   ]
  },
  {
   "cell_type": "code",
   "execution_count": 49,
   "metadata": {},
   "outputs": [
    {
     "name": "stdout",
     "output_type": "stream",
     "text": [
      "[]\n"
     ]
    }
   ],
   "source": [
    "list9 = [1, 2, 3, 4, 5]\n",
    "del list9[-5:]\n",
    "print(list9)"
   ]
  },
  {
   "cell_type": "markdown",
   "metadata": {},
   "source": [
    "##### 10. 对列表 [3,0,8,5,7] 分别做升序和降序排列"
   ]
  },
  {
   "cell_type": "code",
   "execution_count": 56,
   "metadata": {},
   "outputs": [
    {
     "name": "stdout",
     "output_type": "stream",
     "text": [
      "[0, 3, 5, 7, 8]\n",
      "[8, 7, 5, 3, 0]\n"
     ]
    }
   ],
   "source": [
    "list10 = [3, 0, 8, 5, 7]\n",
    "list10.sort()# 升序\n",
    "print(list10)\n",
    "\n",
    "list10.sort(reverse = True) #降序\n",
    "print(list10)"
   ]
  },
  {
   "cell_type": "markdown",
   "metadata": {},
   "source": [
    "##### 11.将列表 [3,0,8,5,7] 中大于 5 元素置为1，其余元素置为0。"
   ]
  },
  {
   "cell_type": "code",
   "execution_count": 6,
   "metadata": {},
   "outputs": [
    {
     "name": "stdout",
     "output_type": "stream",
     "text": [
      "[0, 0, 1, 0, 1]\n"
     ]
    }
   ],
   "source": [
    "list11 = [3, 0, 8, 5, 7]\n",
    "for i in list11:\n",
    "    if i > 5:\n",
    "        list11[list11.index(i)] = 1\n",
    "    else:\n",
    "        list11[list11.index(i)] = 0\n",
    "print(list11)"
   ]
  },
  {
   "cell_type": "markdown",
   "metadata": {},
   "source": [
    "##### 12.遍历列表 [‘x’,‘y’,‘z’]，打印每一个元素及其对应的索引号。"
   ]
  },
  {
   "cell_type": "code",
   "execution_count": 9,
   "metadata": {},
   "outputs": [
    {
     "name": "stdout",
     "output_type": "stream",
     "text": [
      "x\n",
      "0\n",
      "y\n",
      "1\n",
      "z\n",
      "2\n"
     ]
    }
   ],
   "source": [
    "list12 = ['x', 'y', 'z']\n",
    "for i in list12:\n",
    "    print(i)\n",
    "    print(list12.index(i))"
   ]
  },
  {
   "cell_type": "markdown",
   "metadata": {},
   "source": [
    "##### 13. 将列表 [0, 1, 2, 3, 4, 5, 6, 7, 8, 9] 拆分为奇数组和偶数组两个列表。"
   ]
  },
  {
   "cell_type": "code",
   "execution_count": 14,
   "metadata": {},
   "outputs": [
    {
     "name": "stdout",
     "output_type": "stream",
     "text": [
      "[1, 3, 5, 7, 9]\n",
      "[0, 2, 4, 6, 8]\n"
     ]
    }
   ],
   "source": [
    "list13 = [0, 1, 2, 3, 4, 5, 6, 7, 8, 9]\n",
    "list_odd = list13[1::2]\n",
    "print(list_odd)\n",
    "\n",
    "list_even = list13[::2]\n",
    "print(list_even)"
   ]
  },
  {
   "cell_type": "markdown",
   "metadata": {},
   "source": [
    "##### 14.分别根据每一行的首元素和尾元素大小对二维列表 [[6, 5], [3, 7], [2, 8]] 排序。"
   ]
  },
  {
   "cell_type": "code",
   "execution_count": 23,
   "metadata": {},
   "outputs": [
    {
     "name": "stdout",
     "output_type": "stream",
     "text": [
      "[[2, 8], [3, 7], [6, 5]]\n"
     ]
    }
   ],
   "source": [
    "list14 = [[6, 5], [3, 7], [2, 8]]\n",
    "list14.sort(key=lambda x:x[1],reverse = True)\n",
    "print(list14)"
   ]
  },
  {
   "cell_type": "markdown",
   "metadata": {},
   "source": [
    "##### 15.从列表 [1,4,7,2,5,8] 索引为3的位置开始，依次插入列表 [‘x’,‘y’,‘z’] 的所有元素。"
   ]
  },
  {
   "cell_type": "code",
   "execution_count": 27,
   "metadata": {},
   "outputs": [
    {
     "name": "stdout",
     "output_type": "stream",
     "text": [
      "[1, 4, 7, 'x', 'y', 'z', 2, 5, 8]\n"
     ]
    }
   ],
   "source": [
    "list15 = [1, 4, 7, 2, 5, 8]\n",
    "list_1 = ['x', 'y', 'z']\n",
    "list_1.reverse()\n",
    "for i in list_1:\n",
    "    list15.insert(3,i)\n",
    "\n",
    "print(list15)\n",
    "    "
   ]
  },
  {
   "cell_type": "markdown",
   "metadata": {},
   "source": [
    "##### 16.快速生成由 [5,50) 区间内的整数组成的列表。"
   ]
  },
  {
   "cell_type": "code",
   "execution_count": 8,
   "metadata": {},
   "outputs": [
    {
     "name": "stdout",
     "output_type": "stream",
     "text": [
      "[5, 6, 7, 8, 9, 10, 11, 12, 13, 14, 15, 16, 17, 18, 19, 20, 21, 22, 23, 24, 25, 26, 27, 28, 29, 30, 31, 32, 33, 34, 35, 36, 37, 38, 39, 40, 41, 42, 43, 44, 45, 46, 47, 48, 49]\n"
     ]
    }
   ],
   "source": [
    "list_16 = range(5,50)\n",
    "print(list(list_16))"
   ]
  },
  {
   "cell_type": "markdown",
   "metadata": {},
   "source": [
    "##### 17.若 a = [1,2,3]，令 b = a，执行 b[0] = 9， a[0]亦被改变。为何？如何避免？"
   ]
  },
  {
   "cell_type": "code",
   "execution_count": 2,
   "metadata": {},
   "outputs": [
    {
     "name": "stdout",
     "output_type": "stream",
     "text": [
      "[1, 2, 3]\n",
      "[9, 2, 3]\n"
     ]
    }
   ],
   "source": [
    "# 引用传递的问题 \n",
    "# 传递引用常常是最方面的方法，但是函数修改了传入的列表或字典，会影响原来的列表或字典。\n",
    "# 相当于两个变量指向同一个地址\n",
    "# Python中的copy()和deepcopy()函数\n",
    "# 可以用来复制列表或字典这样的可变值，而不只是复制引用\n",
    "import copy\n",
    "a = [1,2,3]\n",
    "b = copy.copy(a)\n",
    "b[0] = 9\n",
    "print (a)\n",
    "print (b)"
   ]
  },
  {
   "cell_type": "markdown",
   "metadata": {},
   "source": [
    "##### 18. 将列表['x','y','z']和[1, 2, 3]转成[('x',1),('y',2),('z',3)]\n"
   ]
  },
  {
   "cell_type": "code",
   "execution_count": 6,
   "metadata": {},
   "outputs": [
    {
     "name": "stdout",
     "output_type": "stream",
     "text": [
      "[('x', 1), ('y', 2), ('z', 3)]\n"
     ]
    }
   ],
   "source": [
    "# zip() 函数用于将可迭代的对象作为参数，将对象中对应的元素打包成一个个元组，\n",
    "# 然后返回这些元组组成的列表\n",
    "a = ['x','y','z']\n",
    "b = [1,2,3]\n",
    "c = list(zip(a,b))\n",
    "print (c)"
   ]
  },
  {
   "cell_type": "markdown",
   "metadata": {},
   "source": [
    "#### 19. 以列表的形式返回字典{'Alice':20,'Beth':18,'Cecil':21}中所有的键"
   ]
  },
  {
   "cell_type": "code",
   "execution_count": 9,
   "metadata": {},
   "outputs": [
    {
     "data": {
      "text/plain": [
       "['Alice', 'Beth', 'Cecil']"
      ]
     },
     "execution_count": 9,
     "metadata": {},
     "output_type": "execute_result"
    }
   ],
   "source": [
    "# 字典有3个方法，它们返回类似列表的值，分别对应于字典的键/值/和键-值对：\n",
    "# keys()/value()/items()\n",
    "spam = {'Alice':20,'Beth':18,'Cecil':21}\n",
    "list(spam.keys())"
   ]
  },
  {
   "cell_type": "markdown",
   "metadata": {},
   "source": [
    "#### 20. 以列表形式返回字典 {‘Alice’: 20, ‘Beth’: 18, ‘Cecil’: 21} 中所有的值。"
   ]
  },
  {
   "cell_type": "code",
   "execution_count": 13,
   "metadata": {},
   "outputs": [
    {
     "data": {
      "text/plain": [
       "[20, 18, 21]"
      ]
     },
     "execution_count": 13,
     "metadata": {},
     "output_type": "execute_result"
    }
   ],
   "source": [
    "spam = {'Alice': 20, 'Beth': 18, 'Cecil': 21}\n",
    "list(spam.values())"
   ]
  },
  {
   "cell_type": "markdown",
   "metadata": {},
   "source": [
    "#### 21. 以列表形式返回字典 {‘Alice’: 20, ‘Beth’: 18, ‘Cecil’: 21} 中所有键值对组成的元组。"
   ]
  },
  {
   "cell_type": "code",
   "execution_count": 14,
   "metadata": {},
   "outputs": [
    {
     "data": {
      "text/plain": [
       "[('Alice', 20), ('Beth', 18), ('Cecil', 21)]"
      ]
     },
     "execution_count": 14,
     "metadata": {},
     "output_type": "execute_result"
    }
   ],
   "source": [
    "spam = {'Alice': 20, 'Beth': 18, 'Cecil': 21}\n",
    "list(spam.items())"
   ]
  },
  {
   "cell_type": "markdown",
   "metadata": {},
   "source": [
    "#### 22.向字典 {‘Alice’: 20, ‘Beth’: 18, ‘Cecil’: 21} 中追加 ‘David’:19 键值对，更新Cecil的值为17"
   ]
  },
  {
   "cell_type": "code",
   "execution_count": 19,
   "metadata": {},
   "outputs": [
    {
     "name": "stdout",
     "output_type": "stream",
     "text": [
      "{'Alice': 20, 'Beth': 18, 'Cecil': 21, 'David': 19}\n"
     ]
    }
   ],
   "source": [
    "# 字典是python中唯一的映射类型，采用键值对(key-value)的像是存储的数据类型\n",
    "# python对可以进行哈希函数运算，根据计算的结果决定value的存储地址，所以字典是无序的且key是可哈希的\n",
    "# 可哈希表示的keyb必须是不可逆变类型，如：数字/字符串/元组\n",
    "# 方法1\n",
    "# spam = {'Alice': 20, 'Beth': 18, 'Cecil': 21}\n",
    "# spam['David'] = 19\n",
    "# spam['Cecil'] = 17\n",
    "# 方法2\n",
    "spam = {'Alice': 20, 'Beth': 18, 'Cecil': 21}\n",
    "spam.setdefault('David',19)\n",
    "print(spam)"
   ]
  },
  {
   "cell_type": "markdown",
   "metadata": {},
   "source": [
    "#### 23.删除字典 {‘Alice’: 20, ‘Beth’: 18, ‘Cecil’: 21} 中的Beth键后，清空该字典"
   ]
  },
  {
   "cell_type": "code",
   "execution_count": 21,
   "metadata": {},
   "outputs": [
    {
     "name": "stdout",
     "output_type": "stream",
     "text": [
      "{'Beth': 18, 'Cecil': 21}\n"
     ]
    }
   ],
   "source": [
    "# 字典的删除(pop(), popitem(),clear(),del\n",
    "spam = {'Alice': 20, 'Beth': 18, 'Cecil': 21}\n",
    "spam.pop('Alice')\n",
    "print(spam)"
   ]
  },
  {
   "cell_type": "markdown",
   "metadata": {},
   "source": [
    "#### 24. 判断 David 和 Alice 是否在字典 {‘Alice’: 20, ‘Beth’: 18, ‘Cecil’: 21} 中。"
   ]
  },
  {
   "cell_type": "code",
   "execution_count": 25,
   "metadata": {},
   "outputs": [
    {
     "name": "stdout",
     "output_type": "stream",
     "text": [
      "20\n"
     ]
    },
    {
     "ename": "KeyError",
     "evalue": "'David'",
     "output_type": "error",
     "traceback": [
      "\u001b[1;31m---------------------------------------------------------------------------\u001b[0m",
      "\u001b[1;31mKeyError\u001b[0m                                  Traceback (most recent call last)",
      "\u001b[1;32m<ipython-input-25-3f52dd29dd87>\u001b[0m in \u001b[0;36m<module>\u001b[1;34m()\u001b[0m\n\u001b[0;32m      3\u001b[0m \u001b[0mspam\u001b[0m \u001b[1;33m=\u001b[0m \u001b[1;33m{\u001b[0m\u001b[1;34m'Alice'\u001b[0m\u001b[1;33m:\u001b[0m \u001b[1;36m20\u001b[0m\u001b[1;33m,\u001b[0m \u001b[1;34m'Beth'\u001b[0m\u001b[1;33m:\u001b[0m \u001b[1;36m18\u001b[0m\u001b[1;33m,\u001b[0m \u001b[1;34m'Cecil'\u001b[0m\u001b[1;33m:\u001b[0m \u001b[1;36m21\u001b[0m\u001b[1;33m}\u001b[0m\u001b[1;33m\u001b[0m\u001b[0m\n\u001b[0;32m      4\u001b[0m \u001b[0mprint\u001b[0m\u001b[1;33m(\u001b[0m\u001b[0mspam\u001b[0m\u001b[1;33m[\u001b[0m\u001b[1;34m'Alice'\u001b[0m\u001b[1;33m]\u001b[0m\u001b[1;33m)\u001b[0m\u001b[1;33m\u001b[0m\u001b[0m\n\u001b[1;32m----> 5\u001b[1;33m \u001b[0mprint\u001b[0m\u001b[1;33m(\u001b[0m\u001b[0mspam\u001b[0m\u001b[1;33m[\u001b[0m\u001b[1;34m'David'\u001b[0m\u001b[1;33m]\u001b[0m\u001b[1;33m)\u001b[0m\u001b[1;33m\u001b[0m\u001b[0m\n\u001b[0m",
      "\u001b[1;31mKeyError\u001b[0m: 'David'"
     ]
    }
   ],
   "source": [
    "# dic[key]\n",
    "# 可以通过key来索引查询自己的元素，如果查不到，则会报错\n",
    "spam = {'Alice': 20, 'Beth': 18, 'Cecil': 21}\n",
    "print(spam['Alice'])\n",
    "print(spam['David'])"
   ]
  },
  {
   "cell_type": "markdown",
   "metadata": {},
   "source": [
    "#### 25. 遍历字典 {‘Alice’: 20, ‘Beth’: 18, ‘Cecil’: 21}，打印键值对。"
   ]
  },
  {
   "cell_type": "code",
   "execution_count": 27,
   "metadata": {},
   "outputs": [
    {
     "name": "stdout",
     "output_type": "stream",
     "text": [
      "Alice 20\n",
      "Beth 18\n",
      "Cecil 21\n"
     ]
    }
   ],
   "source": [
    "spam = {'Alice': 20, 'Beth': 18, 'Cecil': 21}\n",
    "for key,value in spam.items():\n",
    "    print (key,value)"
   ]
  },
  {
   "cell_type": "markdown",
   "metadata": {},
   "source": [
    "#### 26. 若 a = dict()，令 b = a，执行 b.update({‘x’:1})， a亦被改变。为何？如何避免？"
   ]
  },
  {
   "cell_type": "code",
   "execution_count": 37,
   "metadata": {},
   "outputs": [
    {
     "name": "stdout",
     "output_type": "stream",
     "text": [
      "{} {'x': 1}\n"
     ]
    }
   ],
   "source": [
    "# 字典的赋值，浅拷贝，深拷贝\n",
    "import copy\n",
    "a = dict()\n",
    "b = a.copy()\n",
    "b.update({'x':1})\n",
    "print(a,b)"
   ]
  },
  {
   "cell_type": "markdown",
   "metadata": {},
   "source": [
    "#### 27. 以列表 [‘A’,‘B’,‘C’,‘D’,‘E’,‘F’,‘G’,‘H’] 中的每一个元素为键，默认值都是0，创建一个字典。"
   ]
  },
  {
   "cell_type": "code",
   "execution_count": 57,
   "metadata": {},
   "outputs": [
    {
     "name": "stdout",
     "output_type": "stream",
     "text": [
      "{'A': 0, 'B': 0, 'C': 0, 'D': 0, 'E': 0}\n"
     ]
    }
   ],
   "source": [
    "new_list = ['A','B','C','D','E']\n",
    "new_dict = {}\n",
    "for i in new_list:\n",
    "    new_dict[i[0]] = 0\n",
    "    \n",
    "print(new_dict)"
   ]
  },
  {
   "cell_type": "markdown",
   "metadata": {},
   "source": [
    "#### 28. 将二维结构[['a',1],['b',2]]和(('x',3),('y',4))转变成字典"
   ]
  },
  {
   "cell_type": "code",
   "execution_count": 62,
   "metadata": {},
   "outputs": [
    {
     "name": "stdout",
     "output_type": "stream",
     "text": [
      "{'a': 1, 'b': 2} {'x': 3, 'y': 4}\n"
     ]
    }
   ],
   "source": [
    "new_list = [['a',1],['b',2]]\n",
    "new_tuple = (('x',3),('y',4))\n",
    "new_dict1 = dict(new_list)\n",
    "new_dict2 = dict(new_tuple)\n",
    "print(new_dict1,new_dict2)"
   ]
  },
  {
   "cell_type": "markdown",
   "metadata": {},
   "source": [
    "#### 29. 将元组 (1,2) 和 (3,4) 合并成一个元组。"
   ]
  },
  {
   "cell_type": "code",
   "execution_count": 70,
   "metadata": {},
   "outputs": [
    {
     "name": "stdout",
     "output_type": "stream",
     "text": [
      "(1, 2, 3, 4)\n"
     ]
    }
   ],
   "source": [
    "tuple1 = (1,2)\n",
    "tuple2 = (3,4)\n",
    "new_tuple = tuple1 + tuple2\n",
    "print(new_tuple)"
   ]
  },
  {
   "cell_type": "markdown",
   "metadata": {},
   "source": [
    "#### 30. 将空间坐标元组 (1,2,3) 的三个元素解包对应到变量 x,y,z。"
   ]
  },
  {
   "cell_type": "code",
   "execution_count": 79,
   "metadata": {},
   "outputs": [
    {
     "name": "stdout",
     "output_type": "stream",
     "text": [
      "{1: 'x', 2: 'y', 3: 'z'}\n"
     ]
    }
   ],
   "source": [
    "tuple1, tuple2 = (1,2,3),('x','y','z')\n",
    "# zip()函数用于将可迭代的对象作为参数，将对象中对应的元素打包成一个个元组，然后返回\n",
    "# 这些元组组成的列表\n",
    "new_tuple = zip(tuple1,tuple2)\n",
    "new_dict = dict(new_tuple)\n",
    "print(new_dict)"
   ]
  },
  {
   "cell_type": "markdown",
   "metadata": {},
   "source": [
    "#### 31. 返回元组 (‘Alice’,‘Beth’,‘Cecil’) 中 ‘Cecil’ 元素的索引号。"
   ]
  },
  {
   "cell_type": "code",
   "execution_count": null,
   "metadata": {},
   "outputs": [],
   "source": []
  }
 ],
 "metadata": {
  "kernelspec": {
   "display_name": "Python 3",
   "language": "python",
   "name": "python3"
  },
  "language_info": {
   "codemirror_mode": {
    "name": "ipython",
    "version": 3
   },
   "file_extension": ".py",
   "mimetype": "text/x-python",
   "name": "python",
   "nbconvert_exporter": "python",
   "pygments_lexer": "ipython3",
   "version": "3.7.0"
  }
 },
 "nbformat": 4,
 "nbformat_minor": 2
}
